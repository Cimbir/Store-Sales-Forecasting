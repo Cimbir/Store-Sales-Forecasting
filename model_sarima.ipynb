{
  "nbformat": 4,
  "nbformat_minor": 0,
  "metadata": {
    "colab": {
      "provenance": [],
      "gpuType": "T4",
      "authorship_tag": "ABX9TyPIfnwFthk495++w5qFTpbz",
      "include_colab_link": true
    },
    "kernelspec": {
      "name": "python3",
      "display_name": "Python 3"
    },
    "language_info": {
      "name": "python"
    },
    "accelerator": "GPU"
  },
  "cells": [
    {
      "cell_type": "markdown",
      "metadata": {
        "id": "view-in-github",
        "colab_type": "text"
      },
      "source": [
        "<a href=\"https://colab.research.google.com/github/Cimbir/Store-Sales-Forecasting/blob/main/model_sarima.ipynb\" target=\"_parent\"><img src=\"https://colab.research.google.com/assets/colab-badge.svg\" alt=\"Open In Colab\"/></a>"
      ]
    },
    {
      "cell_type": "markdown",
      "source": [
        "# Setup"
      ],
      "metadata": {
        "id": "mkdUWwwZ97uA"
      }
    },
    {
      "cell_type": "code",
      "execution_count": null,
      "metadata": {
        "colab": {
          "base_uri": "https://localhost:8080/"
        },
        "id": "tQ4KnohS92X6",
        "outputId": "92a2a0f5-fb46-4a98-e3b6-5058a656ab97"
      },
      "outputs": [
        {
          "output_type": "stream",
          "name": "stdout",
          "text": [
            "\u001b[2K   \u001b[90m━━━━━━━━━━━━━━━━━━━━━━━━━━━━━━━━━━━━━━━━\u001b[0m \u001b[32m17.6/17.6 MB\u001b[0m \u001b[31m35.8 MB/s\u001b[0m eta \u001b[36m0:00:00\u001b[0m\n",
            "\u001b[?25hMounted at /content/drive\n"
          ]
        }
      ],
      "source": [
        "!pip install kaggle wandb onnx -Uq\n",
        "from google.colab import drive\n",
        "drive.mount('/content/drive')"
      ]
    },
    {
      "cell_type": "code",
      "source": [
        "!mkdir ~/.kaggle\n",
        "!echo \"{\\\"username\\\":\\\"dachisuramelashvili\\\",\\\"key\\\":\\\"4202ec60e20b612a9947450bb8aeebb5\\\"}\" > ~/.kaggle\n",
        "!cp /content/drive/MyDrive/ML/kaggle.json ~/.kaggle/kaggle.json\n",
        "!chmod 600 ~/.kaggle/kaggle.json"
      ],
      "metadata": {
        "colab": {
          "base_uri": "https://localhost:8080/"
        },
        "id": "P1pAIaHz96cI",
        "outputId": "72be6bf4-883f-403b-bdd5-811e45ae9608"
      },
      "execution_count": null,
      "outputs": [
        {
          "output_type": "stream",
          "name": "stdout",
          "text": [
            "/bin/bash: line 1: /root/.kaggle: Is a directory\n"
          ]
        }
      ]
    },
    {
      "cell_type": "code",
      "source": [
        "!kaggle datasets download -d hamzamohiuddin/isbi-2012-challenge\n",
        "!unzip isbi-2012-challenge.zip -d ISBI_dataset"
      ],
      "metadata": {
        "colab": {
          "base_uri": "https://localhost:8080/"
        },
        "collapsed": true,
        "id": "CXv-EIxMA1HF",
        "outputId": "8be8add3-3581-4ec4-93d3-4c9ed8571182"
      },
      "execution_count": null,
      "outputs": [
        {
          "output_type": "stream",
          "name": "stdout",
          "text": [
            "Dataset URL: https://www.kaggle.com/datasets/hamzamohiuddin/isbi-2012-challenge\n",
            "License(s): unknown\n",
            "Downloading isbi-2012-challenge.zip to /content\n",
            "  0% 0.00/12.6M [00:00<?, ?B/s]\n",
            "100% 12.6M/12.6M [00:00<00:00, 845MB/s]\n",
            "Archive:  isbi-2012-challenge.zip\n",
            "  inflating: ISBI_dataset/unmodified-data/test/imgs/frame_0001.png  \n",
            "  inflating: ISBI_dataset/unmodified-data/test/imgs/frame_0002.png  \n",
            "  inflating: ISBI_dataset/unmodified-data/test/imgs/frame_0003.png  \n",
            "  inflating: ISBI_dataset/unmodified-data/test/imgs/frame_0004.png  \n",
            "  inflating: ISBI_dataset/unmodified-data/test/imgs/frame_0005.png  \n",
            "  inflating: ISBI_dataset/unmodified-data/test/imgs/frame_0006.png  \n",
            "  inflating: ISBI_dataset/unmodified-data/test/imgs/frame_0007.png  \n",
            "  inflating: ISBI_dataset/unmodified-data/test/imgs/frame_0008.png  \n",
            "  inflating: ISBI_dataset/unmodified-data/test/imgs/frame_0009.png  \n",
            "  inflating: ISBI_dataset/unmodified-data/test/imgs/frame_0010.png  \n",
            "  inflating: ISBI_dataset/unmodified-data/test/imgs/frame_0011.png  \n",
            "  inflating: ISBI_dataset/unmodified-data/test/imgs/frame_0012.png  \n",
            "  inflating: ISBI_dataset/unmodified-data/test/imgs/frame_0013.png  \n",
            "  inflating: ISBI_dataset/unmodified-data/test/imgs/frame_0014.png  \n",
            "  inflating: ISBI_dataset/unmodified-data/test/imgs/frame_0015.png  \n",
            "  inflating: ISBI_dataset/unmodified-data/test/imgs/frame_0016.png  \n",
            "  inflating: ISBI_dataset/unmodified-data/test/imgs/frame_0017.png  \n",
            "  inflating: ISBI_dataset/unmodified-data/test/imgs/frame_0018.png  \n",
            "  inflating: ISBI_dataset/unmodified-data/test/imgs/frame_0019.png  \n",
            "  inflating: ISBI_dataset/unmodified-data/test/imgs/frame_0020.png  \n",
            "  inflating: ISBI_dataset/unmodified-data/test/imgs/frame_0021.png  \n",
            "  inflating: ISBI_dataset/unmodified-data/test/imgs/frame_0022.png  \n",
            "  inflating: ISBI_dataset/unmodified-data/test/imgs/frame_0023.png  \n",
            "  inflating: ISBI_dataset/unmodified-data/test/imgs/frame_0024.png  \n",
            "  inflating: ISBI_dataset/unmodified-data/test/imgs/frame_0025.png  \n",
            "  inflating: ISBI_dataset/unmodified-data/test/imgs/frame_0026.png  \n",
            "  inflating: ISBI_dataset/unmodified-data/test/imgs/frame_0027.png  \n",
            "  inflating: ISBI_dataset/unmodified-data/test/imgs/frame_0028.png  \n",
            "  inflating: ISBI_dataset/unmodified-data/test/imgs/frame_0029.png  \n",
            "  inflating: ISBI_dataset/unmodified-data/test/imgs/frame_0030.png  \n",
            "  inflating: ISBI_dataset/unmodified-data/test/labels/frame_0001.png  \n",
            "  inflating: ISBI_dataset/unmodified-data/test/labels/frame_0002.png  \n",
            "  inflating: ISBI_dataset/unmodified-data/test/labels/frame_0003.png  \n",
            "  inflating: ISBI_dataset/unmodified-data/test/labels/frame_0004.png  \n",
            "  inflating: ISBI_dataset/unmodified-data/test/labels/frame_0005.png  \n",
            "  inflating: ISBI_dataset/unmodified-data/test/labels/frame_0006.png  \n",
            "  inflating: ISBI_dataset/unmodified-data/test/labels/frame_0007.png  \n",
            "  inflating: ISBI_dataset/unmodified-data/test/labels/frame_0008.png  \n",
            "  inflating: ISBI_dataset/unmodified-data/test/labels/frame_0009.png  \n",
            "  inflating: ISBI_dataset/unmodified-data/test/labels/frame_0010.png  \n",
            "  inflating: ISBI_dataset/unmodified-data/test/labels/frame_0011.png  \n",
            "  inflating: ISBI_dataset/unmodified-data/test/labels/frame_0012.png  \n",
            "  inflating: ISBI_dataset/unmodified-data/test/labels/frame_0013.png  \n",
            "  inflating: ISBI_dataset/unmodified-data/test/labels/frame_0014.png  \n",
            "  inflating: ISBI_dataset/unmodified-data/test/labels/frame_0015.png  \n",
            "  inflating: ISBI_dataset/unmodified-data/test/labels/frame_0016.png  \n",
            "  inflating: ISBI_dataset/unmodified-data/test/labels/frame_0017.png  \n",
            "  inflating: ISBI_dataset/unmodified-data/test/labels/frame_0018.png  \n",
            "  inflating: ISBI_dataset/unmodified-data/test/labels/frame_0019.png  \n",
            "  inflating: ISBI_dataset/unmodified-data/test/labels/frame_0020.png  \n",
            "  inflating: ISBI_dataset/unmodified-data/test/labels/frame_0021.png  \n",
            "  inflating: ISBI_dataset/unmodified-data/test/labels/frame_0022.png  \n",
            "  inflating: ISBI_dataset/unmodified-data/test/labels/frame_0023.png  \n",
            "  inflating: ISBI_dataset/unmodified-data/test/labels/frame_0024.png  \n",
            "  inflating: ISBI_dataset/unmodified-data/test/labels/frame_0025.png  \n",
            "  inflating: ISBI_dataset/unmodified-data/test/labels/frame_0026.png  \n",
            "  inflating: ISBI_dataset/unmodified-data/test/labels/frame_0027.png  \n",
            "  inflating: ISBI_dataset/unmodified-data/test/labels/frame_0028.png  \n",
            "  inflating: ISBI_dataset/unmodified-data/test/labels/frame_0029.png  \n",
            "  inflating: ISBI_dataset/unmodified-data/test/labels/frame_0030.png  \n",
            "  inflating: ISBI_dataset/unmodified-data/train/imgs/frame_0001.png  \n",
            "  inflating: ISBI_dataset/unmodified-data/train/imgs/frame_0002.png  \n",
            "  inflating: ISBI_dataset/unmodified-data/train/imgs/frame_0003.png  \n",
            "  inflating: ISBI_dataset/unmodified-data/train/imgs/frame_0004.png  \n",
            "  inflating: ISBI_dataset/unmodified-data/train/imgs/frame_0005.png  \n",
            "  inflating: ISBI_dataset/unmodified-data/train/imgs/frame_0006.png  \n",
            "  inflating: ISBI_dataset/unmodified-data/train/imgs/frame_0007.png  \n",
            "  inflating: ISBI_dataset/unmodified-data/train/imgs/frame_0008.png  \n",
            "  inflating: ISBI_dataset/unmodified-data/train/imgs/frame_0009.png  \n",
            "  inflating: ISBI_dataset/unmodified-data/train/imgs/frame_0010.png  \n",
            "  inflating: ISBI_dataset/unmodified-data/train/imgs/frame_0011.png  \n",
            "  inflating: ISBI_dataset/unmodified-data/train/imgs/frame_0012.png  \n",
            "  inflating: ISBI_dataset/unmodified-data/train/imgs/frame_0013.png  \n",
            "  inflating: ISBI_dataset/unmodified-data/train/imgs/frame_0014.png  \n",
            "  inflating: ISBI_dataset/unmodified-data/train/imgs/frame_0015.png  \n",
            "  inflating: ISBI_dataset/unmodified-data/train/imgs/frame_0016.png  \n",
            "  inflating: ISBI_dataset/unmodified-data/train/imgs/frame_0017.png  \n",
            "  inflating: ISBI_dataset/unmodified-data/train/imgs/frame_0018.png  \n",
            "  inflating: ISBI_dataset/unmodified-data/train/imgs/frame_0019.png  \n",
            "  inflating: ISBI_dataset/unmodified-data/train/imgs/frame_0020.png  \n",
            "  inflating: ISBI_dataset/unmodified-data/train/imgs/frame_0021.png  \n",
            "  inflating: ISBI_dataset/unmodified-data/train/imgs/frame_0022.png  \n",
            "  inflating: ISBI_dataset/unmodified-data/train/imgs/frame_0023.png  \n",
            "  inflating: ISBI_dataset/unmodified-data/train/imgs/frame_0024.png  \n",
            "  inflating: ISBI_dataset/unmodified-data/train/imgs/frame_0025.png  \n",
            "  inflating: ISBI_dataset/unmodified-data/train/imgs/frame_0026.png  \n",
            "  inflating: ISBI_dataset/unmodified-data/train/imgs/frame_0027.png  \n",
            "  inflating: ISBI_dataset/unmodified-data/train/imgs/frame_0028.png  \n",
            "  inflating: ISBI_dataset/unmodified-data/train/imgs/frame_0029.png  \n",
            "  inflating: ISBI_dataset/unmodified-data/train/imgs/frame_0030.png  \n",
            "  inflating: ISBI_dataset/unmodified-data/train/labels/frame_0001.png  \n",
            "  inflating: ISBI_dataset/unmodified-data/train/labels/frame_0002.png  \n",
            "  inflating: ISBI_dataset/unmodified-data/train/labels/frame_0003.png  \n",
            "  inflating: ISBI_dataset/unmodified-data/train/labels/frame_0004.png  \n",
            "  inflating: ISBI_dataset/unmodified-data/train/labels/frame_0005.png  \n",
            "  inflating: ISBI_dataset/unmodified-data/train/labels/frame_0006.png  \n",
            "  inflating: ISBI_dataset/unmodified-data/train/labels/frame_0007.png  \n",
            "  inflating: ISBI_dataset/unmodified-data/train/labels/frame_0008.png  \n",
            "  inflating: ISBI_dataset/unmodified-data/train/labels/frame_0009.png  \n",
            "  inflating: ISBI_dataset/unmodified-data/train/labels/frame_0010.png  \n",
            "  inflating: ISBI_dataset/unmodified-data/train/labels/frame_0011.png  \n",
            "  inflating: ISBI_dataset/unmodified-data/train/labels/frame_0012.png  \n",
            "  inflating: ISBI_dataset/unmodified-data/train/labels/frame_0013.png  \n",
            "  inflating: ISBI_dataset/unmodified-data/train/labels/frame_0014.png  \n",
            "  inflating: ISBI_dataset/unmodified-data/train/labels/frame_0015.png  \n",
            "  inflating: ISBI_dataset/unmodified-data/train/labels/frame_0016.png  \n",
            "  inflating: ISBI_dataset/unmodified-data/train/labels/frame_0017.png  \n",
            "  inflating: ISBI_dataset/unmodified-data/train/labels/frame_0018.png  \n",
            "  inflating: ISBI_dataset/unmodified-data/train/labels/frame_0019.png  \n",
            "  inflating: ISBI_dataset/unmodified-data/train/labels/frame_0020.png  \n",
            "  inflating: ISBI_dataset/unmodified-data/train/labels/frame_0021.png  \n",
            "  inflating: ISBI_dataset/unmodified-data/train/labels/frame_0022.png  \n",
            "  inflating: ISBI_dataset/unmodified-data/train/labels/frame_0023.png  \n",
            "  inflating: ISBI_dataset/unmodified-data/train/labels/frame_0024.png  \n",
            "  inflating: ISBI_dataset/unmodified-data/train/labels/frame_0025.png  \n",
            "  inflating: ISBI_dataset/unmodified-data/train/labels/frame_0026.png  \n",
            "  inflating: ISBI_dataset/unmodified-data/train/labels/frame_0027.png  \n",
            "  inflating: ISBI_dataset/unmodified-data/train/labels/frame_0028.png  \n",
            "  inflating: ISBI_dataset/unmodified-data/train/labels/frame_0029.png  \n",
            "  inflating: ISBI_dataset/unmodified-data/train/labels/frame_0030.png  \n"
          ]
        }
      ]
    },
    {
      "cell_type": "code",
      "source": [
        "import torch # Main PyTorch Library\n",
        "from torch import nn # Used for creating the layers and loss function\n",
        "from torch.optim import Adam # Adam Optimizer\n",
        "import torchvision.transforms as transforms # Transform function used to modify and preprocess all the images\n",
        "from torch.utils.data import Dataset, DataLoader # Dataset class and DataLoader for creating the objects\n",
        "from sklearn.preprocessing import LabelEncoder # Label Encoder to encode the classes from strings to numbers\n",
        "import matplotlib.pyplot as plt # Used for visualizing the images and plotting the training progress\n",
        "from PIL import Image # Used to read the images from the directory\n",
        "import pandas as pd # Used to read/create dataframes (csv) and process tabular data\n",
        "import numpy as np # preprocessing and numerical/mathematical operations\n",
        "import os # Used to read the images path from the directory\n",
        "import random\n",
        "import wandb\n",
        "from sklearn.metrics import classification_report, confusion_matrix\n",
        "\n",
        "device = \"cuda\" if torch.cuda.is_available() else \"cpu\" # detect the GPU if any, if not use CPU, change cuda to mps if you have a mac\n",
        "\n",
        "print(\"Device available: \", device)"
      ],
      "metadata": {
        "colab": {
          "base_uri": "https://localhost:8080/"
        },
        "id": "RTZwuLRl9-Cq",
        "outputId": "ef2acd47-fd81-45c6-853d-77b21fe8b806"
      },
      "execution_count": null,
      "outputs": [
        {
          "output_type": "stream",
          "name": "stdout",
          "text": [
            "Device available:  cuda\n"
          ]
        }
      ]
    },
    {
      "cell_type": "markdown",
      "source": [
        "# Get Data"
      ],
      "metadata": {
        "id": "pTP_LjczB7Qt"
      }
    },
    {
      "cell_type": "code",
      "source": [
        "image_paths = []\n",
        "label_paths = []\n",
        "\n",
        "for images in os.listdir(f'/content/ISBI_dataset/unmodified-data/train/imgs'):\n",
        "  image_paths.append(f'/content/ISBI_dataset/unmodified-data/train/imgs/{images}')\n",
        "for labels in os.listdir(f'/content/ISBI_dataset/unmodified-data/train/labels'):\n",
        "  label_paths.append(f'/content/ISBI_dataset/unmodified-data/train/labels/{labels}')\n",
        "\n",
        "image_paths.sort()\n",
        "label_paths.sort()"
      ],
      "metadata": {
        "id": "4qiMPq99BwMa"
      },
      "execution_count": null,
      "outputs": []
    },
    {
      "cell_type": "code",
      "source": [
        "data_df = pd.DataFrame(zip(image_paths, label_paths), columns = ['image_paths', 'label_paths'])\n",
        "data_df.head()"
      ],
      "metadata": {
        "colab": {
          "base_uri": "https://localhost:8080/",
          "height": 206
        },
        "id": "drishcOHDbXs",
        "outputId": "eb69bbd9-a2a9-4e94-ee7a-b3b6f70500dc"
      },
      "execution_count": null,
      "outputs": [
        {
          "output_type": "execute_result",
          "data": {
            "text/plain": [
              "                                         image_paths  \\\n",
              "0  /content/ISBI_dataset/unmodified-data/train/im...   \n",
              "1  /content/ISBI_dataset/unmodified-data/train/im...   \n",
              "2  /content/ISBI_dataset/unmodified-data/train/im...   \n",
              "3  /content/ISBI_dataset/unmodified-data/train/im...   \n",
              "4  /content/ISBI_dataset/unmodified-data/train/im...   \n",
              "\n",
              "                                         label_paths  \n",
              "0  /content/ISBI_dataset/unmodified-data/train/la...  \n",
              "1  /content/ISBI_dataset/unmodified-data/train/la...  \n",
              "2  /content/ISBI_dataset/unmodified-data/train/la...  \n",
              "3  /content/ISBI_dataset/unmodified-data/train/la...  \n",
              "4  /content/ISBI_dataset/unmodified-data/train/la...  "
            ],
            "text/html": [
              "\n",
              "  <div id=\"df-da901150-9232-4284-9f27-3e74263847a2\" class=\"colab-df-container\">\n",
              "    <div>\n",
              "<style scoped>\n",
              "    .dataframe tbody tr th:only-of-type {\n",
              "        vertical-align: middle;\n",
              "    }\n",
              "\n",
              "    .dataframe tbody tr th {\n",
              "        vertical-align: top;\n",
              "    }\n",
              "\n",
              "    .dataframe thead th {\n",
              "        text-align: right;\n",
              "    }\n",
              "</style>\n",
              "<table border=\"1\" class=\"dataframe\">\n",
              "  <thead>\n",
              "    <tr style=\"text-align: right;\">\n",
              "      <th></th>\n",
              "      <th>image_paths</th>\n",
              "      <th>label_paths</th>\n",
              "    </tr>\n",
              "  </thead>\n",
              "  <tbody>\n",
              "    <tr>\n",
              "      <th>0</th>\n",
              "      <td>/content/ISBI_dataset/unmodified-data/train/im...</td>\n",
              "      <td>/content/ISBI_dataset/unmodified-data/train/la...</td>\n",
              "    </tr>\n",
              "    <tr>\n",
              "      <th>1</th>\n",
              "      <td>/content/ISBI_dataset/unmodified-data/train/im...</td>\n",
              "      <td>/content/ISBI_dataset/unmodified-data/train/la...</td>\n",
              "    </tr>\n",
              "    <tr>\n",
              "      <th>2</th>\n",
              "      <td>/content/ISBI_dataset/unmodified-data/train/im...</td>\n",
              "      <td>/content/ISBI_dataset/unmodified-data/train/la...</td>\n",
              "    </tr>\n",
              "    <tr>\n",
              "      <th>3</th>\n",
              "      <td>/content/ISBI_dataset/unmodified-data/train/im...</td>\n",
              "      <td>/content/ISBI_dataset/unmodified-data/train/la...</td>\n",
              "    </tr>\n",
              "    <tr>\n",
              "      <th>4</th>\n",
              "      <td>/content/ISBI_dataset/unmodified-data/train/im...</td>\n",
              "      <td>/content/ISBI_dataset/unmodified-data/train/la...</td>\n",
              "    </tr>\n",
              "  </tbody>\n",
              "</table>\n",
              "</div>\n",
              "    <div class=\"colab-df-buttons\">\n",
              "\n",
              "  <div class=\"colab-df-container\">\n",
              "    <button class=\"colab-df-convert\" onclick=\"convertToInteractive('df-da901150-9232-4284-9f27-3e74263847a2')\"\n",
              "            title=\"Convert this dataframe to an interactive table.\"\n",
              "            style=\"display:none;\">\n",
              "\n",
              "  <svg xmlns=\"http://www.w3.org/2000/svg\" height=\"24px\" viewBox=\"0 -960 960 960\">\n",
              "    <path d=\"M120-120v-720h720v720H120Zm60-500h600v-160H180v160Zm220 220h160v-160H400v160Zm0 220h160v-160H400v160ZM180-400h160v-160H180v160Zm440 0h160v-160H620v160ZM180-180h160v-160H180v160Zm440 0h160v-160H620v160Z\"/>\n",
              "  </svg>\n",
              "    </button>\n",
              "\n",
              "  <style>\n",
              "    .colab-df-container {\n",
              "      display:flex;\n",
              "      gap: 12px;\n",
              "    }\n",
              "\n",
              "    .colab-df-convert {\n",
              "      background-color: #E8F0FE;\n",
              "      border: none;\n",
              "      border-radius: 50%;\n",
              "      cursor: pointer;\n",
              "      display: none;\n",
              "      fill: #1967D2;\n",
              "      height: 32px;\n",
              "      padding: 0 0 0 0;\n",
              "      width: 32px;\n",
              "    }\n",
              "\n",
              "    .colab-df-convert:hover {\n",
              "      background-color: #E2EBFA;\n",
              "      box-shadow: 0px 1px 2px rgba(60, 64, 67, 0.3), 0px 1px 3px 1px rgba(60, 64, 67, 0.15);\n",
              "      fill: #174EA6;\n",
              "    }\n",
              "\n",
              "    .colab-df-buttons div {\n",
              "      margin-bottom: 4px;\n",
              "    }\n",
              "\n",
              "    [theme=dark] .colab-df-convert {\n",
              "      background-color: #3B4455;\n",
              "      fill: #D2E3FC;\n",
              "    }\n",
              "\n",
              "    [theme=dark] .colab-df-convert:hover {\n",
              "      background-color: #434B5C;\n",
              "      box-shadow: 0px 1px 3px 1px rgba(0, 0, 0, 0.15);\n",
              "      filter: drop-shadow(0px 1px 2px rgba(0, 0, 0, 0.3));\n",
              "      fill: #FFFFFF;\n",
              "    }\n",
              "  </style>\n",
              "\n",
              "    <script>\n",
              "      const buttonEl =\n",
              "        document.querySelector('#df-da901150-9232-4284-9f27-3e74263847a2 button.colab-df-convert');\n",
              "      buttonEl.style.display =\n",
              "        google.colab.kernel.accessAllowed ? 'block' : 'none';\n",
              "\n",
              "      async function convertToInteractive(key) {\n",
              "        const element = document.querySelector('#df-da901150-9232-4284-9f27-3e74263847a2');\n",
              "        const dataTable =\n",
              "          await google.colab.kernel.invokeFunction('convertToInteractive',\n",
              "                                                    [key], {});\n",
              "        if (!dataTable) return;\n",
              "\n",
              "        const docLinkHtml = 'Like what you see? Visit the ' +\n",
              "          '<a target=\"_blank\" href=https://colab.research.google.com/notebooks/data_table.ipynb>data table notebook</a>'\n",
              "          + ' to learn more about interactive tables.';\n",
              "        element.innerHTML = '';\n",
              "        dataTable['output_type'] = 'display_data';\n",
              "        await google.colab.output.renderOutput(dataTable, element);\n",
              "        const docLink = document.createElement('div');\n",
              "        docLink.innerHTML = docLinkHtml;\n",
              "        element.appendChild(docLink);\n",
              "      }\n",
              "    </script>\n",
              "  </div>\n",
              "\n",
              "\n",
              "    <div id=\"df-1e234cbb-11d9-48ea-9b16-1f588176572c\">\n",
              "      <button class=\"colab-df-quickchart\" onclick=\"quickchart('df-1e234cbb-11d9-48ea-9b16-1f588176572c')\"\n",
              "                title=\"Suggest charts\"\n",
              "                style=\"display:none;\">\n",
              "\n",
              "<svg xmlns=\"http://www.w3.org/2000/svg\" height=\"24px\"viewBox=\"0 0 24 24\"\n",
              "     width=\"24px\">\n",
              "    <g>\n",
              "        <path d=\"M19 3H5c-1.1 0-2 .9-2 2v14c0 1.1.9 2 2 2h14c1.1 0 2-.9 2-2V5c0-1.1-.9-2-2-2zM9 17H7v-7h2v7zm4 0h-2V7h2v10zm4 0h-2v-4h2v4z\"/>\n",
              "    </g>\n",
              "</svg>\n",
              "      </button>\n",
              "\n",
              "<style>\n",
              "  .colab-df-quickchart {\n",
              "      --bg-color: #E8F0FE;\n",
              "      --fill-color: #1967D2;\n",
              "      --hover-bg-color: #E2EBFA;\n",
              "      --hover-fill-color: #174EA6;\n",
              "      --disabled-fill-color: #AAA;\n",
              "      --disabled-bg-color: #DDD;\n",
              "  }\n",
              "\n",
              "  [theme=dark] .colab-df-quickchart {\n",
              "      --bg-color: #3B4455;\n",
              "      --fill-color: #D2E3FC;\n",
              "      --hover-bg-color: #434B5C;\n",
              "      --hover-fill-color: #FFFFFF;\n",
              "      --disabled-bg-color: #3B4455;\n",
              "      --disabled-fill-color: #666;\n",
              "  }\n",
              "\n",
              "  .colab-df-quickchart {\n",
              "    background-color: var(--bg-color);\n",
              "    border: none;\n",
              "    border-radius: 50%;\n",
              "    cursor: pointer;\n",
              "    display: none;\n",
              "    fill: var(--fill-color);\n",
              "    height: 32px;\n",
              "    padding: 0;\n",
              "    width: 32px;\n",
              "  }\n",
              "\n",
              "  .colab-df-quickchart:hover {\n",
              "    background-color: var(--hover-bg-color);\n",
              "    box-shadow: 0 1px 2px rgba(60, 64, 67, 0.3), 0 1px 3px 1px rgba(60, 64, 67, 0.15);\n",
              "    fill: var(--button-hover-fill-color);\n",
              "  }\n",
              "\n",
              "  .colab-df-quickchart-complete:disabled,\n",
              "  .colab-df-quickchart-complete:disabled:hover {\n",
              "    background-color: var(--disabled-bg-color);\n",
              "    fill: var(--disabled-fill-color);\n",
              "    box-shadow: none;\n",
              "  }\n",
              "\n",
              "  .colab-df-spinner {\n",
              "    border: 2px solid var(--fill-color);\n",
              "    border-color: transparent;\n",
              "    border-bottom-color: var(--fill-color);\n",
              "    animation:\n",
              "      spin 1s steps(1) infinite;\n",
              "  }\n",
              "\n",
              "  @keyframes spin {\n",
              "    0% {\n",
              "      border-color: transparent;\n",
              "      border-bottom-color: var(--fill-color);\n",
              "      border-left-color: var(--fill-color);\n",
              "    }\n",
              "    20% {\n",
              "      border-color: transparent;\n",
              "      border-left-color: var(--fill-color);\n",
              "      border-top-color: var(--fill-color);\n",
              "    }\n",
              "    30% {\n",
              "      border-color: transparent;\n",
              "      border-left-color: var(--fill-color);\n",
              "      border-top-color: var(--fill-color);\n",
              "      border-right-color: var(--fill-color);\n",
              "    }\n",
              "    40% {\n",
              "      border-color: transparent;\n",
              "      border-right-color: var(--fill-color);\n",
              "      border-top-color: var(--fill-color);\n",
              "    }\n",
              "    60% {\n",
              "      border-color: transparent;\n",
              "      border-right-color: var(--fill-color);\n",
              "    }\n",
              "    80% {\n",
              "      border-color: transparent;\n",
              "      border-right-color: var(--fill-color);\n",
              "      border-bottom-color: var(--fill-color);\n",
              "    }\n",
              "    90% {\n",
              "      border-color: transparent;\n",
              "      border-bottom-color: var(--fill-color);\n",
              "    }\n",
              "  }\n",
              "</style>\n",
              "\n",
              "      <script>\n",
              "        async function quickchart(key) {\n",
              "          const quickchartButtonEl =\n",
              "            document.querySelector('#' + key + ' button');\n",
              "          quickchartButtonEl.disabled = true;  // To prevent multiple clicks.\n",
              "          quickchartButtonEl.classList.add('colab-df-spinner');\n",
              "          try {\n",
              "            const charts = await google.colab.kernel.invokeFunction(\n",
              "                'suggestCharts', [key], {});\n",
              "          } catch (error) {\n",
              "            console.error('Error during call to suggestCharts:', error);\n",
              "          }\n",
              "          quickchartButtonEl.classList.remove('colab-df-spinner');\n",
              "          quickchartButtonEl.classList.add('colab-df-quickchart-complete');\n",
              "        }\n",
              "        (() => {\n",
              "          let quickchartButtonEl =\n",
              "            document.querySelector('#df-1e234cbb-11d9-48ea-9b16-1f588176572c button');\n",
              "          quickchartButtonEl.style.display =\n",
              "            google.colab.kernel.accessAllowed ? 'block' : 'none';\n",
              "        })();\n",
              "      </script>\n",
              "    </div>\n",
              "\n",
              "    </div>\n",
              "  </div>\n"
            ],
            "application/vnd.google.colaboratory.intrinsic+json": {
              "type": "dataframe",
              "variable_name": "data_df",
              "summary": "{\n  \"name\": \"data_df\",\n  \"rows\": 30,\n  \"fields\": [\n    {\n      \"column\": \"image_paths\",\n      \"properties\": {\n        \"dtype\": \"string\",\n        \"num_unique_values\": 30,\n        \"samples\": [\n          \"/content/ISBI_dataset/unmodified-data/train/imgs/frame_0028.png\",\n          \"/content/ISBI_dataset/unmodified-data/train/imgs/frame_0016.png\",\n          \"/content/ISBI_dataset/unmodified-data/train/imgs/frame_0024.png\"\n        ],\n        \"semantic_type\": \"\",\n        \"description\": \"\"\n      }\n    },\n    {\n      \"column\": \"label_paths\",\n      \"properties\": {\n        \"dtype\": \"string\",\n        \"num_unique_values\": 30,\n        \"samples\": [\n          \"/content/ISBI_dataset/unmodified-data/train/labels/frame_0028.png\",\n          \"/content/ISBI_dataset/unmodified-data/train/labels/frame_0016.png\",\n          \"/content/ISBI_dataset/unmodified-data/train/labels/frame_0024.png\"\n        ],\n        \"semantic_type\": \"\",\n        \"description\": \"\"\n      }\n    }\n  ]\n}"
            }
          },
          "metadata": {},
          "execution_count": 6
        }
      ]
    },
    {
      "cell_type": "code",
      "source": [
        "train=data_df.sample(frac=0.7,random_state=7) # Create training of 70% of the data\n",
        "test=data_df.drop(train.index) # Create testing by removing the 70% of the train data which will result in 30%\n",
        "\n",
        "val=test.sample(frac=0.5,random_state=7) # Create validation of 50% of the testing data\n",
        "test=test.drop(val.index) # Create testing by removing the 50% of the validation data which will result in 50%"
      ],
      "metadata": {
        "id": "pPLRmVJPO-YA"
      },
      "execution_count": null,
      "outputs": []
    },
    {
      "cell_type": "code",
      "source": [
        "image_transform = transforms.Compose([\n",
        "    transforms.Resize((572, 572)), # One size for all images\n",
        "    transforms.ToTensor(), # Convert images to PyTorch tensors\n",
        "    ]) # Transform all images into one clear format (preprocess all images to same properties)\n",
        "\n",
        "label_transform = transforms.Compose([\n",
        "    transforms.Resize((388, 388), interpolation=transforms.InterpolationMode.NEAREST), # One size for all images\n",
        "    transforms.ToTensor(), # Convert images to PyTorch tensors\n",
        "    ])"
      ],
      "metadata": {
        "id": "eEZvsbj3S7Zn"
      },
      "execution_count": null,
      "outputs": []
    },
    {
      "cell_type": "code",
      "source": [
        "class CustomImageDataset(Dataset):\n",
        "    def __init__(self, dataframe, image_transform=None, label_transform=None):\n",
        "        self.dataframe = dataframe\n",
        "        self.image_transform = image_transform\n",
        "        self.label_transform = label_transform\n",
        "\n",
        "    def __len__(self):\n",
        "        return self.dataframe.shape[0]\n",
        "\n",
        "    def __getitem__(self, idx):\n",
        "        image_path = self.dataframe.iloc[idx, 0]\n",
        "        label_path = self.dataframe.iloc[idx, 1]\n",
        "\n",
        "        image = Image.open(image_path).convert('L')\n",
        "        label = Image.open(label_path).convert('L')\n",
        "\n",
        "        if self.image_transform:\n",
        "            image = self.image_transform(image).to(device)\n",
        "        if self.label_transform:\n",
        "            label = self.label_transform(label).to(device)\n",
        "\n",
        "        return image, label"
      ],
      "metadata": {
        "id": "rdOTj9_yQ24W"
      },
      "execution_count": null,
      "outputs": []
    },
    {
      "cell_type": "code",
      "source": [
        "LR = 1e-4\n",
        "BATCH_SIZE = 1\n",
        "EPOCHS = 1"
      ],
      "metadata": {
        "id": "RP_XCqW3ho5d"
      },
      "execution_count": null,
      "outputs": []
    },
    {
      "cell_type": "code",
      "source": [
        "train_dataset = CustomImageDataset(train, image_transform, label_transform)\n",
        "val_dataset = CustomImageDataset(val, image_transform, label_transform)\n",
        "test_dataset = CustomImageDataset(test, image_transform, label_transform)"
      ],
      "metadata": {
        "id": "UAt4o1IthPfG"
      },
      "execution_count": null,
      "outputs": []
    },
    {
      "cell_type": "code",
      "source": [
        "train_loader = DataLoader(train_dataset, batch_size=BATCH_SIZE, shuffle=True)\n",
        "val_loader = DataLoader(val_dataset, batch_size=BATCH_SIZE, shuffle=True)\n",
        "test_loader = DataLoader(test_dataset, batch_size=BATCH_SIZE, shuffle=True)"
      ],
      "metadata": {
        "id": "m_ueaJvChgHa"
      },
      "execution_count": null,
      "outputs": []
    },
    {
      "cell_type": "markdown",
      "source": [
        "# Model"
      ],
      "metadata": {
        "id": "vU3p-Pctj3IO"
      }
    },
    {
      "cell_type": "code",
      "source": [
        "class Net(nn.Module):\n",
        "    def __init__(self):\n",
        "      super().__init__()\n",
        "\n",
        "      self.conv1 = nn.Conv2d(1, 1, kernel_size = 3, padding = 0)\n",
        "      self.down = nn.MaxPool2d(kernel_size = 2, stride = 2)\n",
        "      self.conv2 = nn.Conv2d(1, 1, kernel_size = 3, padding = 0)\n",
        "      self.up = nn.ConvTranspose2d(1, 1, kernel_size=2, stride=2)\n",
        "      self.conv3 = nn.Conv2d(1, 1, kernel_size = 179, padding = 0)\n",
        "\n",
        "    def forward(self, x):\n",
        "      x = self.conv1(x)\n",
        "      x = self.down(x)\n",
        "      x = self.conv2(x)\n",
        "      x = self.up(x)\n",
        "      x = self.conv3(x)\n",
        "      return x\n",
        "\n",
        "model = Net().to(device) # Create an instance of the model and move it to the GPU Device\n"
      ],
      "metadata": {
        "id": "P5iTGgwGh23k"
      },
      "execution_count": null,
      "outputs": []
    },
    {
      "cell_type": "code",
      "source": [
        "from torchsummary import summary\n",
        "summary(model, input_size = (1, 572, 572))"
      ],
      "metadata": {
        "colab": {
          "base_uri": "https://localhost:8080/"
        },
        "id": "Tm4KA1Yrj0e3",
        "outputId": "8e003d55-88e9-4ae0-b302-2110aa9ba90b"
      },
      "execution_count": null,
      "outputs": [
        {
          "output_type": "stream",
          "name": "stdout",
          "text": [
            "----------------------------------------------------------------\n",
            "        Layer (type)               Output Shape         Param #\n",
            "================================================================\n",
            "            Conv2d-1          [-1, 1, 570, 570]              10\n",
            "         MaxPool2d-2          [-1, 1, 285, 285]               0\n",
            "            Conv2d-3          [-1, 1, 283, 283]              10\n",
            "   ConvTranspose2d-4          [-1, 1, 566, 566]               5\n",
            "            Conv2d-5          [-1, 1, 388, 388]          32,042\n",
            "================================================================\n",
            "Total params: 32,067\n",
            "Trainable params: 32,067\n",
            "Non-trainable params: 0\n",
            "----------------------------------------------------------------\n",
            "Input size (MB): 1.25\n",
            "Forward/backward pass size (MB): 7.30\n",
            "Params size (MB): 0.12\n",
            "Estimated Total Size (MB): 8.67\n",
            "----------------------------------------------------------------\n"
          ]
        }
      ]
    },
    {
      "cell_type": "code",
      "source": [
        "# Define loss function and optimizer\n",
        "criterion = nn.CrossEntropyLoss() # Cross Entropy Loss\n",
        "optimizer = Adam(model.parameters(), lr=LR) # Adam optimizer"
      ],
      "metadata": {
        "id": "U82i59t4kCJU"
      },
      "execution_count": null,
      "outputs": []
    },
    {
      "cell_type": "code",
      "source": [
        "import time\n",
        "\n",
        "total_loss_train_plot = []\n",
        "total_loss_validation_plot = []\n",
        "total_acc_train_plot = []\n",
        "total_acc_validation_plot = []\n",
        "\n",
        "\n",
        "for epoch in range(EPOCHS):\n",
        "  total_acc_train = 0\n",
        "  total_loss_train = 0\n",
        "  total_loss_val = 0\n",
        "  total_acc_val = 0\n",
        "\n",
        "  for inputs, labels in train_loader:\n",
        "    optimizer.zero_grad()\n",
        "    start_time = time.time()\n",
        "    outputs = model(inputs)\n",
        "    # Squeeze the channel dimension and convert to long data type\n",
        "    # outputs: [batch_size, num_classes, 388, 388]\n",
        "    # labels: [batch_size, 1, 388, 388] -> after squeeze(1) -> [batch_size, 388, 388]\n",
        "    # This now matches the spatial dimensions for CrossEntropyLoss\n",
        "    train_loss = criterion(outputs, labels)\n",
        "    total_loss_train += train_loss.item()\n",
        "    train_loss.backward()\n",
        "\n",
        "    # Adjust accuracy calculation as labels are now 3D\n",
        "    # outputs is (batch_size, num_classes, height, width)\n",
        "    # labels is (batch_size, height, width)\n",
        "    # torch.argmax(outputs, axis=1) will give (batch_size, height, width) with class indices\n",
        "    train_acc = (torch.argmax(outputs, axis = 1) == labels.squeeze(1)).sum().item()\n",
        "    total_acc_train += train_acc\n",
        "    optimizer.step()\n",
        "    end_time = time.time()\n",
        "    print(f'time : {end_time - start_time}s')\n",
        "\n",
        "  with torch.no_grad():\n",
        "    for inputs, labels in val_loader:\n",
        "      outputs = model(inputs)\n",
        "      # Squeeze the channel dimension and convert to long data type for validation loss\n",
        "      # outputs: [batch_size, num_classes, 388, 388]\n",
        "      # labels: [batch_size, 1, 388, 388] -> after squeeze(1) -> [batch_size, 388, 388]\n",
        "      val_loss = criterion(outputs, labels.squeeze(1).long())\n",
        "      total_loss_val += val_loss.item()\n",
        "\n",
        "      # Adjust accuracy calculation for validation\n",
        "      val_acc = (torch.argmax(outputs, axis = 1) == labels.squeeze(1)).sum().item()\n",
        "      total_acc_val += val_acc\n",
        "\n",
        "  # The total number of pixels in the training set is batch_size * height * width\n",
        "  # Since labels are resized to 388x388, this is train_dataset.__len__() * 388 * 388\n",
        "  total_pixels_train = train_dataset.__len__() * 388 * 388\n",
        "  total_pixels_val = val_dataset.__len__() * 388 * 388\n",
        "\n",
        "  total_loss_train_plot.append(round(total_loss_train/1000, 4))\n",
        "  total_loss_validation_plot.append(round(total_loss_val/1000, 4))\n",
        "  # Calculate accuracy per pixel\n",
        "  total_acc_train_plot.append(round(total_acc_train/total_pixels_train*100, 4))\n",
        "  total_acc_validation_plot.append(round(total_acc_val/total_pixels_val*100, 4))\n",
        "\n",
        "  print(f'''Epoch {epoch+1}/{EPOCHS}, Train Loss: {round(total_loss_train/len(train_loader), 4)} Train Pixel Accuracy {round((total_acc_train)/total_pixels_train * 100, 4)}\n",
        "              Validation Loss: {round(total_loss_val/len(val_loader), 4)} Validation Pixel Accuracy: {round((total_acc_val)/total_pixels_val * 100, 4)}''')\n",
        "  print(\"=\"*25)"
      ],
      "metadata": {
        "colab": {
          "base_uri": "https://localhost:8080/",
          "height": 661
        },
        "id": "1H6BsQwXkY0G",
        "outputId": "7ba53237-ff74-47ac-f863-b273e2a08b25"
      },
      "execution_count": null,
      "outputs": [
        {
          "output_type": "stream",
          "name": "stdout",
          "text": [
            "time : 0.938758134841919s\n",
            "time : 0.3298168182373047s\n",
            "time : 0.3324925899505615s\n",
            "time : 0.33393073081970215s\n",
            "time : 0.33394479751586914s\n",
            "time : 0.3335909843444824s\n",
            "time : 0.332045316696167s\n",
            "time : 0.3321208953857422s\n",
            "time : 0.3313100337982178s\n",
            "time : 0.33972764015197754s\n",
            "time : 0.33327412605285645s\n",
            "time : 0.3347177505493164s\n",
            "time : 0.3333723545074463s\n",
            "time : 0.3347949981689453s\n",
            "time : 0.33531904220581055s\n",
            "time : 0.33675360679626465s\n",
            "time : 0.33385491371154785s\n",
            "time : 0.33472394943237305s\n",
            "time : 0.3344895839691162s\n",
            "time : 0.3354015350341797s\n",
            "time : 0.33641982078552246s\n"
          ]
        },
        {
          "output_type": "error",
          "ename": "RuntimeError",
          "evalue": "CUDA error: device-side assert triggered\nCUDA kernel errors might be asynchronously reported at some other API call, so the stacktrace below might be incorrect.\nFor debugging consider passing CUDA_LAUNCH_BLOCKING=1\nCompile with `TORCH_USE_CUDA_DSA` to enable device-side assertions.\n",
          "traceback": [
            "\u001b[0;31m---------------------------------------------------------------------------\u001b[0m",
            "\u001b[0;31mRuntimeError\u001b[0m                              Traceback (most recent call last)",
            "\u001b[0;32m<ipython-input-16-d6818185aa32>\u001b[0m in \u001b[0;36m<cell line: 0>\u001b[0;34m()\u001b[0m\n\u001b[1;32m     42\u001b[0m       \u001b[0;31m# labels: [batch_size, 1, 388, 388] -> after squeeze(1) -> [batch_size, 388, 388]\u001b[0m\u001b[0;34m\u001b[0m\u001b[0;34m\u001b[0m\u001b[0m\n\u001b[1;32m     43\u001b[0m       \u001b[0mval_loss\u001b[0m \u001b[0;34m=\u001b[0m \u001b[0mcriterion\u001b[0m\u001b[0;34m(\u001b[0m\u001b[0moutputs\u001b[0m\u001b[0;34m,\u001b[0m \u001b[0mlabels\u001b[0m\u001b[0;34m.\u001b[0m\u001b[0msqueeze\u001b[0m\u001b[0;34m(\u001b[0m\u001b[0;36m1\u001b[0m\u001b[0;34m)\u001b[0m\u001b[0;34m.\u001b[0m\u001b[0mlong\u001b[0m\u001b[0;34m(\u001b[0m\u001b[0;34m)\u001b[0m\u001b[0;34m)\u001b[0m\u001b[0;34m\u001b[0m\u001b[0;34m\u001b[0m\u001b[0m\n\u001b[0;32m---> 44\u001b[0;31m       \u001b[0mtotal_loss_val\u001b[0m \u001b[0;34m+=\u001b[0m \u001b[0mval_loss\u001b[0m\u001b[0;34m.\u001b[0m\u001b[0mitem\u001b[0m\u001b[0;34m(\u001b[0m\u001b[0;34m)\u001b[0m\u001b[0;34m\u001b[0m\u001b[0;34m\u001b[0m\u001b[0m\n\u001b[0m\u001b[1;32m     45\u001b[0m \u001b[0;34m\u001b[0m\u001b[0m\n\u001b[1;32m     46\u001b[0m       \u001b[0;31m# Adjust accuracy calculation for validation\u001b[0m\u001b[0;34m\u001b[0m\u001b[0;34m\u001b[0m\u001b[0m\n",
            "\u001b[0;31mRuntimeError\u001b[0m: CUDA error: device-side assert triggered\nCUDA kernel errors might be asynchronously reported at some other API call, so the stacktrace below might be incorrect.\nFor debugging consider passing CUDA_LAUNCH_BLOCKING=1\nCompile with `TORCH_USE_CUDA_DSA` to enable device-side assertions.\n"
          ]
        }
      ]
    },
    {
      "cell_type": "code",
      "source": [],
      "metadata": {
        "id": "hPQAk9Khojg0"
      },
      "execution_count": null,
      "outputs": []
    }
  ]
}