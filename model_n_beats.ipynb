{
  "nbformat": 4,
  "nbformat_minor": 0,
  "metadata": {
    "colab": {
      "provenance": [],
      "authorship_tag": "ABX9TyODy+sJiGLganuSMSPgqF9C",
      "include_colab_link": true
    },
    "kernelspec": {
      "name": "python3",
      "display_name": "Python 3"
    },
    "language_info": {
      "name": "python"
    },
    "widgets": {
      "application/vnd.jupyter.widget-state+json": {
        "53ca6e02c67e49efab92d898a19a8a87": {
          "model_module": "@jupyter-widgets/output",
          "model_name": "OutputModel",
          "model_module_version": "1.0.0",
          "state": {
            "_dom_classes": [],
            "_model_module": "@jupyter-widgets/output",
            "_model_module_version": "1.0.0",
            "_model_name": "OutputModel",
            "_view_count": null,
            "_view_module": "@jupyter-widgets/output",
            "_view_module_version": "1.0.0",
            "_view_name": "OutputView",
            "layout": "IPY_MODEL_a1ac2ac5809e4a6bb846f6b503bfcb74",
            "msg_id": "",
            "outputs": [
              {
                "output_type": "display_data",
                "data": {
                  "text/plain": "\u001b[32m⠇\u001b[0m Waiting for authorization\n",
                  "text/html": "<pre style=\"white-space:pre;overflow-x:auto;line-height:normal;font-family:Menlo,'DejaVu Sans Mono',consolas,'Courier New',monospace\"><span style=\"color: #008000; text-decoration-color: #008000\">⠇</span> Waiting for authorization\n</pre>\n"
                },
                "metadata": {}
              }
            ]
          }
        },
        "a1ac2ac5809e4a6bb846f6b503bfcb74": {
          "model_module": "@jupyter-widgets/base",
          "model_name": "LayoutModel",
          "model_module_version": "1.2.0",
          "state": {
            "_model_module": "@jupyter-widgets/base",
            "_model_module_version": "1.2.0",
            "_model_name": "LayoutModel",
            "_view_count": null,
            "_view_module": "@jupyter-widgets/base",
            "_view_module_version": "1.2.0",
            "_view_name": "LayoutView",
            "align_content": null,
            "align_items": null,
            "align_self": null,
            "border": null,
            "bottom": null,
            "display": null,
            "flex": null,
            "flex_flow": null,
            "grid_area": null,
            "grid_auto_columns": null,
            "grid_auto_flow": null,
            "grid_auto_rows": null,
            "grid_column": null,
            "grid_gap": null,
            "grid_row": null,
            "grid_template_areas": null,
            "grid_template_columns": null,
            "grid_template_rows": null,
            "height": null,
            "justify_content": null,
            "justify_items": null,
            "left": null,
            "margin": null,
            "max_height": null,
            "max_width": null,
            "min_height": null,
            "min_width": null,
            "object_fit": null,
            "object_position": null,
            "order": null,
            "overflow": null,
            "overflow_x": null,
            "overflow_y": null,
            "padding": null,
            "right": null,
            "top": null,
            "visibility": null,
            "width": null
          }
        }
      }
    }
  },
  "cells": [
    {
      "cell_type": "markdown",
      "metadata": {
        "id": "view-in-github",
        "colab_type": "text"
      },
      "source": [
        "<a href=\"https://colab.research.google.com/github/Cimbir/Store-Sales-Forecasting/blob/main/model_n_beats.ipynb\" target=\"_parent\"><img src=\"https://colab.research.google.com/assets/colab-badge.svg\" alt=\"Open In Colab\"/></a>"
      ]
    },
    {
      "cell_type": "markdown",
      "source": [
        "# Setup"
      ],
      "metadata": {
        "id": "eUcMSBzN5p8X"
      }
    },
    {
      "cell_type": "code",
      "source": [
        "!pip install kaggle wandb onnx -Uq\n",
        "from google.colab import drive\n",
        "drive.mount('/content/drive')"
      ],
      "metadata": {
        "colab": {
          "base_uri": "https://localhost:8080/"
        },
        "id": "NZJteELT5rbK",
        "outputId": "d1ac596c-0820-4c96-f98a-59488b57fb11"
      },
      "execution_count": 1,
      "outputs": [
        {
          "output_type": "stream",
          "name": "stdout",
          "text": [
            "\u001b[2K   \u001b[90m━━━━━━━━━━━━━━━━━━━━━━━━━━━━━━━━━━━━━━━━\u001b[0m \u001b[32m17.6/17.6 MB\u001b[0m \u001b[31m87.6 MB/s\u001b[0m eta \u001b[36m0:00:00\u001b[0m\n",
            "\u001b[?25hMounted at /content/drive\n"
          ]
        }
      ]
    },
    {
      "cell_type": "code",
      "source": [
        "!mkdir ~/.kaggle\n",
        "!echo \"{\\\"username\\\":\\\"dachisuramelashvili\\\",\\\"key\\\":\\\"4202ec60e20b612a9947450bb8aeebb5\\\"}\" > ~/.kaggle\n",
        "!cp /content/drive/MyDrive/ML/kaggle.json ~/.kaggle/kaggle.json\n",
        "!chmod 600 ~/.kaggle/kaggle.json"
      ],
      "metadata": {
        "colab": {
          "base_uri": "https://localhost:8080/"
        },
        "id": "4e7SNsHk9EGW",
        "outputId": "3fa908da-da5b-4a98-b1e0-b93c36909ec4"
      },
      "execution_count": 2,
      "outputs": [
        {
          "output_type": "stream",
          "name": "stdout",
          "text": [
            "/bin/bash: line 1: /root/.kaggle: Is a directory\n"
          ]
        }
      ]
    },
    {
      "cell_type": "code",
      "source": [
        "!kaggle competitions download -c walmart-recruiting-store-sales-forecasting\n",
        "!unzip walmart-recruiting-store-sales-forecasting.zip"
      ],
      "metadata": {
        "colab": {
          "base_uri": "https://localhost:8080/"
        },
        "id": "-P8V1rlv5ua5",
        "outputId": "a4713dfd-5dcb-420b-b04c-edfca026c3d3"
      },
      "execution_count": 3,
      "outputs": [
        {
          "output_type": "stream",
          "name": "stdout",
          "text": [
            "Downloading walmart-recruiting-store-sales-forecasting.zip to /content\n",
            "\r  0% 0.00/2.70M [00:00<?, ?B/s]\n",
            "\r100% 2.70M/2.70M [00:00<00:00, 750MB/s]\n",
            "Archive:  walmart-recruiting-store-sales-forecasting.zip\n",
            "  inflating: features.csv.zip        \n",
            "  inflating: sampleSubmission.csv.zip  \n",
            "  inflating: stores.csv              \n",
            "  inflating: test.csv.zip            \n",
            "  inflating: train.csv.zip           \n"
          ]
        }
      ]
    },
    {
      "cell_type": "code",
      "source": [
        "!unzip train.csv.zip\n",
        "!unzip stores.csv.zip\n",
        "!unzip features.csv.zip\n",
        "!unzip test.csv.zip"
      ],
      "metadata": {
        "colab": {
          "base_uri": "https://localhost:8080/"
        },
        "id": "E4Rw9q_N9ARF",
        "outputId": "fde93f39-23b0-4f15-b117-4b959aef9393"
      },
      "execution_count": 4,
      "outputs": [
        {
          "output_type": "stream",
          "name": "stdout",
          "text": [
            "Archive:  train.csv.zip\n",
            "  inflating: train.csv               \n",
            "unzip:  cannot find or open stores.csv.zip, stores.csv.zip.zip or stores.csv.zip.ZIP.\n",
            "Archive:  features.csv.zip\n",
            "  inflating: features.csv            \n",
            "Archive:  test.csv.zip\n",
            "  inflating: test.csv                \n"
          ]
        }
      ]
    },
    {
      "cell_type": "code",
      "source": [
        "# Basic imports\n",
        "import pandas as pd\n",
        "import numpy as np\n",
        "import matplotlib.pyplot as plt\n",
        "from datetime import datetime, timedelta\n",
        "from pandas.plotting import register_matplotlib_converters\n",
        "register_matplotlib_converters()\n",
        "from time import time\n",
        "import pickle\n",
        "import seaborn as sns\n",
        "\n",
        "# PyTorch imports\n",
        "import torch\n",
        "import torch.nn as nn\n",
        "import torch.optim as optim\n",
        "from torch.utils.data import Dataset, DataLoader\n",
        "import torch.nn.functional as F\n",
        "\n",
        "# Sklearn\n",
        "from sklearn.preprocessing import StandardScaler, MinMaxScaler\n",
        "from sklearn.metrics import mean_absolute_error, mean_squared_error\n",
        "from sklearn.base import BaseEstimator, TransformerMixin\n",
        "from sklearn.pipeline import Pipeline\n",
        "\n",
        "# Set random seeds for reproducibility\n",
        "torch.manual_seed(42)\n",
        "np.random.seed(42)\n",
        "\n",
        "# Check if CUDA is available\n",
        "device = torch.device('cuda' if torch.cuda.is_available() else 'cpu')\n",
        "print(f'Using device: {device}')"
      ],
      "metadata": {
        "id": "BQpvanP0-bqN",
        "colab": {
          "base_uri": "https://localhost:8080/"
        },
        "outputId": "d375b712-7c0f-4d37-8f64-079d331947ee"
      },
      "execution_count": 5,
      "outputs": [
        {
          "output_type": "stream",
          "name": "stdout",
          "text": [
            "Using device: cpu\n"
          ]
        }
      ]
    },
    {
      "cell_type": "code",
      "source": [
        "import warnings\n",
        "warnings.filterwarnings('ignore')"
      ],
      "metadata": {
        "id": "wf4UL5MvHpE6"
      },
      "execution_count": 6,
      "outputs": []
    },
    {
      "cell_type": "markdown",
      "source": [
        "# Evaluate"
      ],
      "metadata": {
        "id": "chK4V81VHzEw"
      }
    },
    {
      "cell_type": "code",
      "source": [
        "def WMAE(dataset, real, predict):\n",
        "    weights = dataset['IsHoliday_x'].apply(lambda x: 5 if x else 1)\n",
        "    return (np.sum(weights * abs(real - predict)) / np.sum(weights))"
      ],
      "metadata": {
        "id": "YMVsOKZeH1uI"
      },
      "execution_count": 7,
      "outputs": []
    },
    {
      "cell_type": "markdown",
      "source": [
        "# Get Data"
      ],
      "metadata": {
        "id": "1zqObMN8-5Vc"
      }
    },
    {
      "cell_type": "code",
      "source": [
        "train = pd.read_csv('train.csv')\n",
        "stores = pd.read_csv('stores.csv')\n",
        "features = pd.read_csv('features.csv')"
      ],
      "metadata": {
        "id": "JSsWgzPO-7f7"
      },
      "execution_count": 8,
      "outputs": []
    },
    {
      "cell_type": "code",
      "metadata": {
        "colab": {
          "base_uri": "https://localhost:8080/",
          "height": 366
        },
        "id": "108d3edb",
        "outputId": "24c68b4e-2950-45df-ebd9-2306159903eb"
      },
      "source": [
        "df = pd.merge(train, features, on=['Store', 'Date'], how='left')\n",
        "df = pd.merge(df, stores, on='Store', how='left')\n",
        "df = df.drop('IsHoliday_y', axis=1)\n",
        "\n",
        "df['Date'] = pd.to_datetime(df['Date'])\n",
        "\n",
        "print(f\"Dataset shape: {df.shape}\")\n",
        "print(f\"Date range: {df['Date'].min()} to {df['Date'].max()}\")\n",
        "print(f\"Unique stores: {df['Store'].nunique()}\")\n",
        "print(f\"Unique departments: {df['Dept'].nunique()}\")\n",
        "\n",
        "display(df.head())"
      ],
      "execution_count": 17,
      "outputs": [
        {
          "output_type": "stream",
          "name": "stdout",
          "text": [
            "Dataset shape: (421570, 16)\n",
            "Date range: 2010-02-05 00:00:00 to 2012-10-26 00:00:00\n",
            "Unique stores: 45\n",
            "Unique departments: 81\n"
          ]
        },
        {
          "output_type": "display_data",
          "data": {
            "text/plain": [
              "   Store  Dept       Date  Weekly_Sales  IsHoliday_x  Temperature  Fuel_Price  \\\n",
              "0      1     1 2010-02-05      24924.50        False        42.31       2.572   \n",
              "1      1     1 2010-02-12      46039.49         True        38.51       2.548   \n",
              "2      1     1 2010-02-19      41595.55        False        39.93       2.514   \n",
              "3      1     1 2010-02-26      19403.54        False        46.63       2.561   \n",
              "4      1     1 2010-03-05      21827.90        False        46.50       2.625   \n",
              "\n",
              "   MarkDown1  MarkDown2  MarkDown3  MarkDown4  MarkDown5         CPI  \\\n",
              "0        NaN        NaN        NaN        NaN        NaN  211.096358   \n",
              "1        NaN        NaN        NaN        NaN        NaN  211.242170   \n",
              "2        NaN        NaN        NaN        NaN        NaN  211.289143   \n",
              "3        NaN        NaN        NaN        NaN        NaN  211.319643   \n",
              "4        NaN        NaN        NaN        NaN        NaN  211.350143   \n",
              "\n",
              "   Unemployment Type    Size  \n",
              "0         8.106    A  151315  \n",
              "1         8.106    A  151315  \n",
              "2         8.106    A  151315  \n",
              "3         8.106    A  151315  \n",
              "4         8.106    A  151315  "
            ],
            "text/html": [
              "\n",
              "  <div id=\"df-bdd77a19-d5a1-44b4-9abf-b646ba82b594\" class=\"colab-df-container\">\n",
              "    <div>\n",
              "<style scoped>\n",
              "    .dataframe tbody tr th:only-of-type {\n",
              "        vertical-align: middle;\n",
              "    }\n",
              "\n",
              "    .dataframe tbody tr th {\n",
              "        vertical-align: top;\n",
              "    }\n",
              "\n",
              "    .dataframe thead th {\n",
              "        text-align: right;\n",
              "    }\n",
              "</style>\n",
              "<table border=\"1\" class=\"dataframe\">\n",
              "  <thead>\n",
              "    <tr style=\"text-align: right;\">\n",
              "      <th></th>\n",
              "      <th>Store</th>\n",
              "      <th>Dept</th>\n",
              "      <th>Date</th>\n",
              "      <th>Weekly_Sales</th>\n",
              "      <th>IsHoliday_x</th>\n",
              "      <th>Temperature</th>\n",
              "      <th>Fuel_Price</th>\n",
              "      <th>MarkDown1</th>\n",
              "      <th>MarkDown2</th>\n",
              "      <th>MarkDown3</th>\n",
              "      <th>MarkDown4</th>\n",
              "      <th>MarkDown5</th>\n",
              "      <th>CPI</th>\n",
              "      <th>Unemployment</th>\n",
              "      <th>Type</th>\n",
              "      <th>Size</th>\n",
              "    </tr>\n",
              "  </thead>\n",
              "  <tbody>\n",
              "    <tr>\n",
              "      <th>0</th>\n",
              "      <td>1</td>\n",
              "      <td>1</td>\n",
              "      <td>2010-02-05</td>\n",
              "      <td>24924.50</td>\n",
              "      <td>False</td>\n",
              "      <td>42.31</td>\n",
              "      <td>2.572</td>\n",
              "      <td>NaN</td>\n",
              "      <td>NaN</td>\n",
              "      <td>NaN</td>\n",
              "      <td>NaN</td>\n",
              "      <td>NaN</td>\n",
              "      <td>211.096358</td>\n",
              "      <td>8.106</td>\n",
              "      <td>A</td>\n",
              "      <td>151315</td>\n",
              "    </tr>\n",
              "    <tr>\n",
              "      <th>1</th>\n",
              "      <td>1</td>\n",
              "      <td>1</td>\n",
              "      <td>2010-02-12</td>\n",
              "      <td>46039.49</td>\n",
              "      <td>True</td>\n",
              "      <td>38.51</td>\n",
              "      <td>2.548</td>\n",
              "      <td>NaN</td>\n",
              "      <td>NaN</td>\n",
              "      <td>NaN</td>\n",
              "      <td>NaN</td>\n",
              "      <td>NaN</td>\n",
              "      <td>211.242170</td>\n",
              "      <td>8.106</td>\n",
              "      <td>A</td>\n",
              "      <td>151315</td>\n",
              "    </tr>\n",
              "    <tr>\n",
              "      <th>2</th>\n",
              "      <td>1</td>\n",
              "      <td>1</td>\n",
              "      <td>2010-02-19</td>\n",
              "      <td>41595.55</td>\n",
              "      <td>False</td>\n",
              "      <td>39.93</td>\n",
              "      <td>2.514</td>\n",
              "      <td>NaN</td>\n",
              "      <td>NaN</td>\n",
              "      <td>NaN</td>\n",
              "      <td>NaN</td>\n",
              "      <td>NaN</td>\n",
              "      <td>211.289143</td>\n",
              "      <td>8.106</td>\n",
              "      <td>A</td>\n",
              "      <td>151315</td>\n",
              "    </tr>\n",
              "    <tr>\n",
              "      <th>3</th>\n",
              "      <td>1</td>\n",
              "      <td>1</td>\n",
              "      <td>2010-02-26</td>\n",
              "      <td>19403.54</td>\n",
              "      <td>False</td>\n",
              "      <td>46.63</td>\n",
              "      <td>2.561</td>\n",
              "      <td>NaN</td>\n",
              "      <td>NaN</td>\n",
              "      <td>NaN</td>\n",
              "      <td>NaN</td>\n",
              "      <td>NaN</td>\n",
              "      <td>211.319643</td>\n",
              "      <td>8.106</td>\n",
              "      <td>A</td>\n",
              "      <td>151315</td>\n",
              "    </tr>\n",
              "    <tr>\n",
              "      <th>4</th>\n",
              "      <td>1</td>\n",
              "      <td>1</td>\n",
              "      <td>2010-03-05</td>\n",
              "      <td>21827.90</td>\n",
              "      <td>False</td>\n",
              "      <td>46.50</td>\n",
              "      <td>2.625</td>\n",
              "      <td>NaN</td>\n",
              "      <td>NaN</td>\n",
              "      <td>NaN</td>\n",
              "      <td>NaN</td>\n",
              "      <td>NaN</td>\n",
              "      <td>211.350143</td>\n",
              "      <td>8.106</td>\n",
              "      <td>A</td>\n",
              "      <td>151315</td>\n",
              "    </tr>\n",
              "  </tbody>\n",
              "</table>\n",
              "</div>\n",
              "    <div class=\"colab-df-buttons\">\n",
              "\n",
              "  <div class=\"colab-df-container\">\n",
              "    <button class=\"colab-df-convert\" onclick=\"convertToInteractive('df-bdd77a19-d5a1-44b4-9abf-b646ba82b594')\"\n",
              "            title=\"Convert this dataframe to an interactive table.\"\n",
              "            style=\"display:none;\">\n",
              "\n",
              "  <svg xmlns=\"http://www.w3.org/2000/svg\" height=\"24px\" viewBox=\"0 -960 960 960\">\n",
              "    <path d=\"M120-120v-720h720v720H120Zm60-500h600v-160H180v160Zm220 220h160v-160H400v160Zm0 220h160v-160H400v160ZM180-400h160v-160H180v160Zm440 0h160v-160H620v160ZM180-180h160v-160H180v160Zm440 0h160v-160H620v160Z\"/>\n",
              "  </svg>\n",
              "    </button>\n",
              "\n",
              "  <style>\n",
              "    .colab-df-container {\n",
              "      display:flex;\n",
              "      gap: 12px;\n",
              "    }\n",
              "\n",
              "    .colab-df-convert {\n",
              "      background-color: #E8F0FE;\n",
              "      border: none;\n",
              "      border-radius: 50%;\n",
              "      cursor: pointer;\n",
              "      display: none;\n",
              "      fill: #1967D2;\n",
              "      height: 32px;\n",
              "      padding: 0 0 0 0;\n",
              "      width: 32px;\n",
              "    }\n",
              "\n",
              "    .colab-df-convert:hover {\n",
              "      background-color: #E2EBFA;\n",
              "      box-shadow: 0px 1px 2px rgba(60, 64, 67, 0.3), 0px 1px 3px 1px rgba(60, 64, 67, 0.15);\n",
              "      fill: #174EA6;\n",
              "    }\n",
              "\n",
              "    .colab-df-buttons div {\n",
              "      margin-bottom: 4px;\n",
              "    }\n",
              "\n",
              "    [theme=dark] .colab-df-convert {\n",
              "      background-color: #3B4455;\n",
              "      fill: #D2E3FC;\n",
              "    }\n",
              "\n",
              "    [theme=dark] .colab-df-convert:hover {\n",
              "      background-color: #434B5C;\n",
              "      box-shadow: 0px 1px 3px 1px rgba(0, 0, 0, 0.15);\n",
              "      filter: drop-shadow(0px 1px 2px rgba(0, 0, 0, 0.3));\n",
              "      fill: #FFFFFF;\n",
              "    }\n",
              "  </style>\n",
              "\n",
              "    <script>\n",
              "      const buttonEl =\n",
              "        document.querySelector('#df-bdd77a19-d5a1-44b4-9abf-b646ba82b594 button.colab-df-convert');\n",
              "      buttonEl.style.display =\n",
              "        google.colab.kernel.accessAllowed ? 'block' : 'none';\n",
              "\n",
              "      async function convertToInteractive(key) {\n",
              "        const element = document.querySelector('#df-bdd77a19-d5a1-44b4-9abf-b646ba82b594');\n",
              "        const dataTable =\n",
              "          await google.colab.kernel.invokeFunction('convertToInteractive',\n",
              "                                                    [key], {});\n",
              "        if (!dataTable) return;\n",
              "\n",
              "        const docLinkHtml = 'Like what you see? Visit the ' +\n",
              "          '<a target=\"_blank\" href=https://colab.research.google.com/notebooks/data_table.ipynb>data table notebook</a>'\n",
              "          + ' to learn more about interactive tables.';\n",
              "        element.innerHTML = '';\n",
              "        dataTable['output_type'] = 'display_data';\n",
              "        await google.colab.output.renderOutput(dataTable, element);\n",
              "        const docLink = document.createElement('div');\n",
              "        docLink.innerHTML = docLinkHtml;\n",
              "        element.appendChild(docLink);\n",
              "      }\n",
              "    </script>\n",
              "  </div>\n",
              "\n",
              "\n",
              "    <div id=\"df-9ca9c633-d240-475e-8e07-b79979323363\">\n",
              "      <button class=\"colab-df-quickchart\" onclick=\"quickchart('df-9ca9c633-d240-475e-8e07-b79979323363')\"\n",
              "                title=\"Suggest charts\"\n",
              "                style=\"display:none;\">\n",
              "\n",
              "<svg xmlns=\"http://www.w3.org/2000/svg\" height=\"24px\"viewBox=\"0 0 24 24\"\n",
              "     width=\"24px\">\n",
              "    <g>\n",
              "        <path d=\"M19 3H5c-1.1 0-2 .9-2 2v14c0 1.1.9 2 2 2h14c1.1 0 2-.9 2-2V5c0-1.1-.9-2-2-2zM9 17H7v-7h2v7zm4 0h-2V7h2v10zm4 0h-2v-4h2v4z\"/>\n",
              "    </g>\n",
              "</svg>\n",
              "      </button>\n",
              "\n",
              "<style>\n",
              "  .colab-df-quickchart {\n",
              "      --bg-color: #E8F0FE;\n",
              "      --fill-color: #1967D2;\n",
              "      --hover-bg-color: #E2EBFA;\n",
              "      --hover-fill-color: #174EA6;\n",
              "      --disabled-fill-color: #AAA;\n",
              "      --disabled-bg-color: #DDD;\n",
              "  }\n",
              "\n",
              "  [theme=dark] .colab-df-quickchart {\n",
              "      --bg-color: #3B4455;\n",
              "      --fill-color: #D2E3FC;\n",
              "      --hover-bg-color: #434B5C;\n",
              "      --hover-fill-color: #FFFFFF;\n",
              "      --disabled-bg-color: #3B4455;\n",
              "      --disabled-fill-color: #666;\n",
              "  }\n",
              "\n",
              "  .colab-df-quickchart {\n",
              "    background-color: var(--bg-color);\n",
              "    border: none;\n",
              "    border-radius: 50%;\n",
              "    cursor: pointer;\n",
              "    display: none;\n",
              "    fill: var(--fill-color);\n",
              "    height: 32px;\n",
              "    padding: 0;\n",
              "    width: 32px;\n",
              "  }\n",
              "\n",
              "  .colab-df-quickchart:hover {\n",
              "    background-color: var(--hover-bg-color);\n",
              "    box-shadow: 0 1px 2px rgba(60, 64, 67, 0.3), 0 1px 3px 1px rgba(60, 64, 67, 0.15);\n",
              "    fill: var(--button-hover-fill-color);\n",
              "  }\n",
              "\n",
              "  .colab-df-quickchart-complete:disabled,\n",
              "  .colab-df-quickchart-complete:disabled:hover {\n",
              "    background-color: var(--disabled-bg-color);\n",
              "    fill: var(--disabled-fill-color);\n",
              "    box-shadow: none;\n",
              "  }\n",
              "\n",
              "  .colab-df-spinner {\n",
              "    border: 2px solid var(--fill-color);\n",
              "    border-color: transparent;\n",
              "    border-bottom-color: var(--fill-color);\n",
              "    animation:\n",
              "      spin 1s steps(1) infinite;\n",
              "  }\n",
              "\n",
              "  @keyframes spin {\n",
              "    0% {\n",
              "      border-color: transparent;\n",
              "      border-bottom-color: var(--fill-color);\n",
              "      border-left-color: var(--fill-color);\n",
              "    }\n",
              "    20% {\n",
              "      border-color: transparent;\n",
              "      border-left-color: var(--fill-color);\n",
              "      border-top-color: var(--fill-color);\n",
              "    }\n",
              "    30% {\n",
              "      border-color: transparent;\n",
              "      border-left-color: var(--fill-color);\n",
              "      border-top-color: var(--fill-color);\n",
              "      border-right-color: var(--fill-color);\n",
              "    }\n",
              "    40% {\n",
              "      border-color: transparent;\n",
              "      border-right-color: var(--fill-color);\n",
              "      border-top-color: var(--fill-color);\n",
              "    }\n",
              "    60% {\n",
              "      border-color: transparent;\n",
              "      border-right-color: var(--fill-color);\n",
              "    }\n",
              "    80% {\n",
              "      border-color: transparent;\n",
              "      border-right-color: var(--fill-color);\n",
              "      border-bottom-color: var(--fill-color);\n",
              "    }\n",
              "    90% {\n",
              "      border-color: transparent;\n",
              "      border-bottom-color: var(--fill-color);\n",
              "    }\n",
              "  }\n",
              "</style>\n",
              "\n",
              "      <script>\n",
              "        async function quickchart(key) {\n",
              "          const quickchartButtonEl =\n",
              "            document.querySelector('#' + key + ' button');\n",
              "          quickchartButtonEl.disabled = true;  // To prevent multiple clicks.\n",
              "          quickchartButtonEl.classList.add('colab-df-spinner');\n",
              "          try {\n",
              "            const charts = await google.colab.kernel.invokeFunction(\n",
              "                'suggestCharts', [key], {});\n",
              "          } catch (error) {\n",
              "            console.error('Error during call to suggestCharts:', error);\n",
              "          }\n",
              "          quickchartButtonEl.classList.remove('colab-df-spinner');\n",
              "          quickchartButtonEl.classList.add('colab-df-quickchart-complete');\n",
              "        }\n",
              "        (() => {\n",
              "          let quickchartButtonEl =\n",
              "            document.querySelector('#df-9ca9c633-d240-475e-8e07-b79979323363 button');\n",
              "          quickchartButtonEl.style.display =\n",
              "            google.colab.kernel.accessAllowed ? 'block' : 'none';\n",
              "        })();\n",
              "      </script>\n",
              "    </div>\n",
              "\n",
              "    </div>\n",
              "  </div>\n"
            ],
            "application/vnd.google.colaboratory.intrinsic+json": {
              "type": "dataframe",
              "summary": "{\n  \"name\": \"display(df\",\n  \"rows\": 5,\n  \"fields\": [\n    {\n      \"column\": \"Store\",\n      \"properties\": {\n        \"dtype\": \"number\",\n        \"std\": 0,\n        \"min\": 1,\n        \"max\": 1,\n        \"num_unique_values\": 1,\n        \"samples\": [\n          1\n        ],\n        \"semantic_type\": \"\",\n        \"description\": \"\"\n      }\n    },\n    {\n      \"column\": \"Dept\",\n      \"properties\": {\n        \"dtype\": \"number\",\n        \"std\": 0,\n        \"min\": 1,\n        \"max\": 1,\n        \"num_unique_values\": 1,\n        \"samples\": [\n          1\n        ],\n        \"semantic_type\": \"\",\n        \"description\": \"\"\n      }\n    },\n    {\n      \"column\": \"Date\",\n      \"properties\": {\n        \"dtype\": \"date\",\n        \"min\": \"2010-02-05 00:00:00\",\n        \"max\": \"2010-03-05 00:00:00\",\n        \"num_unique_values\": 5,\n        \"samples\": [\n          \"2010-02-12 00:00:00\"\n        ],\n        \"semantic_type\": \"\",\n        \"description\": \"\"\n      }\n    },\n    {\n      \"column\": \"Weekly_Sales\",\n      \"properties\": {\n        \"dtype\": \"number\",\n        \"std\": 12182.73980455669,\n        \"min\": 19403.54,\n        \"max\": 46039.49,\n        \"num_unique_values\": 5,\n        \"samples\": [\n          46039.49\n        ],\n        \"semantic_type\": \"\",\n        \"description\": \"\"\n      }\n    },\n    {\n      \"column\": \"IsHoliday_x\",\n      \"properties\": {\n        \"dtype\": \"boolean\",\n        \"num_unique_values\": 2,\n        \"samples\": [\n          true\n        ],\n        \"semantic_type\": \"\",\n        \"description\": \"\"\n      }\n    },\n    {\n      \"column\": \"Temperature\",\n      \"properties\": {\n        \"dtype\": \"number\",\n        \"std\": 3.716083960300145,\n        \"min\": 38.51,\n        \"max\": 46.63,\n        \"num_unique_values\": 5,\n        \"samples\": [\n          38.51\n        ],\n        \"semantic_type\": \"\",\n        \"description\": \"\"\n      }\n    },\n    {\n      \"column\": \"Fuel_Price\",\n      \"properties\": {\n        \"dtype\": \"number\",\n        \"std\": 0.04046603514059668,\n        \"min\": 2.514,\n        \"max\": 2.625,\n        \"num_unique_values\": 5,\n        \"samples\": [\n          2.548\n        ],\n        \"semantic_type\": \"\",\n        \"description\": \"\"\n      }\n    },\n    {\n      \"column\": \"MarkDown1\",\n      \"properties\": {\n        \"dtype\": \"number\",\n        \"std\": null,\n        \"min\": null,\n        \"max\": null,\n        \"num_unique_values\": 0,\n        \"samples\": [],\n        \"semantic_type\": \"\",\n        \"description\": \"\"\n      }\n    },\n    {\n      \"column\": \"MarkDown2\",\n      \"properties\": {\n        \"dtype\": \"number\",\n        \"std\": null,\n        \"min\": null,\n        \"max\": null,\n        \"num_unique_values\": 0,\n        \"samples\": [],\n        \"semantic_type\": \"\",\n        \"description\": \"\"\n      }\n    },\n    {\n      \"column\": \"MarkDown3\",\n      \"properties\": {\n        \"dtype\": \"number\",\n        \"std\": null,\n        \"min\": null,\n        \"max\": null,\n        \"num_unique_values\": 0,\n        \"samples\": [],\n        \"semantic_type\": \"\",\n        \"description\": \"\"\n      }\n    },\n    {\n      \"column\": \"MarkDown4\",\n      \"properties\": {\n        \"dtype\": \"number\",\n        \"std\": null,\n        \"min\": null,\n        \"max\": null,\n        \"num_unique_values\": 0,\n        \"samples\": [],\n        \"semantic_type\": \"\",\n        \"description\": \"\"\n      }\n    },\n    {\n      \"column\": \"MarkDown5\",\n      \"properties\": {\n        \"dtype\": \"number\",\n        \"std\": null,\n        \"min\": null,\n        \"max\": null,\n        \"num_unique_values\": 0,\n        \"samples\": [],\n        \"semantic_type\": \"\",\n        \"description\": \"\"\n      }\n    },\n    {\n      \"column\": \"CPI\",\n      \"properties\": {\n        \"dtype\": \"number\",\n        \"std\": 0.09953339593515015,\n        \"min\": 211.0963582,\n        \"max\": 211.3501429,\n        \"num_unique_values\": 5,\n        \"samples\": [],\n        \"semantic_type\": \"\",\n        \"description\": \"\"\n      }\n    },\n    {\n      \"column\": \"Unemployment\",\n      \"properties\": {\n        \"dtype\": \"number\",\n        \"std\": 0.0,\n        \"min\": 8.106,\n        \"max\": 8.106,\n        \"num_unique_values\": 1,\n        \"samples\": [],\n        \"semantic_type\": \"\",\n        \"description\": \"\"\n      }\n    },\n    {\n      \"column\": \"Type\",\n      \"properties\": {\n        \"dtype\": \"category\",\n        \"num_unique_values\": 1,\n        \"samples\": [],\n        \"semantic_type\": \"\",\n        \"description\": \"\"\n      }\n    },\n    {\n      \"column\": \"Size\",\n      \"properties\": {\n        \"dtype\": \"number\",\n        \"std\": 0,\n        \"min\": 151315,\n        \"max\": 151315,\n        \"num_unique_values\": 1,\n        \"samples\": [],\n        \"semantic_type\": \"\",\n        \"description\": \"\"\n      }\n    }\n  ]\n}"
            }
          },
          "metadata": {}
        }
      ]
    },
    {
      "cell_type": "markdown",
      "source": [
        "# Preprocessing"
      ],
      "metadata": {
        "id": "1eWDBUbp2Lxw"
      }
    },
    {
      "cell_type": "code",
      "source": [
        "class CleaningPreprocessor(BaseEstimator, TransformerMixin):\n",
        "    def __init__(self, nan_vars):\n",
        "        self.nan_vars = nan_vars\n",
        "\n",
        "    def fit(self, X, y=None):\n",
        "        self.var_to_mean = {}\n",
        "        for var in self.nan_vars:\n",
        "            self.var_to_mean[var] = X[var].mean()\n",
        "        return self\n",
        "\n",
        "    def transform(self, X):\n",
        "        X = X.copy()\n",
        "        for var in self.nan_vars:\n",
        "            X[var].fillna(self.var_to_mean[var], inplace=True)\n",
        "        return X\n",
        "\n",
        "class EncoderPreprocessor(BaseEstimator, TransformerMixin):\n",
        "    def __init__(self):\n",
        "        pass\n",
        "\n",
        "    def fit(self, X, y=None):\n",
        "        return self\n",
        "\n",
        "    def transform(self, X):\n",
        "        X = X.copy()\n",
        "        X['Type'] = X['Type'].astype('category').cat.codes\n",
        "        X['IsHoliday_x'] = X['IsHoliday_x'].astype(int)\n",
        "        return X\n",
        "\n",
        "class FormatterPreprocessor(BaseEstimator, TransformerMixin):\n",
        "    def __init__(self):\n",
        "        pass\n",
        "\n",
        "    def fit(self, X, y=None):\n",
        "        return self\n",
        "\n",
        "    def transform(self, X):\n",
        "        X = X.copy()\n",
        "        X = X.sort_values(['Date', 'Store', 'Dept'])\n",
        "        X['Store_Dept'] = X['Store'].astype(str) + '_' + X['Dept'].astype(str)\n",
        "        return X\n",
        "\n",
        "class SelectionPreprocessor(BaseEstimator, TransformerMixin):\n",
        "    def __init__(self, feature_cols):\n",
        "        self.feature_cols = feature_cols\n",
        "\n",
        "    def fit(self, X, y=None):\n",
        "        return self\n",
        "\n",
        "    def transform(self, X):\n",
        "        X = X.copy()\n",
        "        available_features = [col for col in feature_cols if col in X.columns]\n",
        "        X = X[available_features]\n",
        "        return X\n",
        "\n",
        "class ScalerPreprocessor(BaseEstimator, TransformerMixin):\n",
        "    def __init__(self):\n",
        "        pass\n",
        "\n",
        "    def fit(self, X, y=None):\n",
        "        self.scaler = StandardScaler()\n",
        "        self.scaler.fit(X)\n",
        "        return self\n",
        "\n",
        "    def transform(self, X):\n",
        "        X = X.copy()\n",
        "        X = self.scaler.transform(X)\n",
        "        return X"
      ],
      "metadata": {
        "id": "obW9inPT2Nkr"
      },
      "execution_count": 51,
      "outputs": []
    },
    {
      "cell_type": "markdown",
      "source": [
        "# N-BEATS Model Implementation"
      ],
      "metadata": {
        "id": "mGPu0Xqg2W1R"
      }
    },
    {
      "cell_type": "markdown",
      "source": [
        "## Basis"
      ],
      "metadata": {
        "id": "Jio7XQg63TEM"
      }
    },
    {
      "cell_type": "code",
      "source": [
        "class GenericBasis(nn.Module):\n",
        "    \"\"\"\n",
        "    Generic basis function (simple linear transformation)\n",
        "    \"\"\"\n",
        "    def __init__(self, backcast_size, forecast_size):\n",
        "        super().__init__()\n",
        "        self.backcast_size = backcast_size\n",
        "        self.forecast_size = forecast_size\n",
        "\n",
        "    def forward(self, theta, input_size, mode):\n",
        "        if mode == 'backcast':\n",
        "            return theta[:, :self.backcast_size]\n",
        "        else:  # forecast\n",
        "            return theta[:, :self.forecast_size]\n",
        "\n",
        "\n",
        "class TrendBasis(nn.Module):\n",
        "    \"\"\"\n",
        "    Trend basis function using polynomial basis\n",
        "    \"\"\"\n",
        "    def __init__(self, degree_of_polynomial, backcast_size, forecast_size):\n",
        "        super().__init__()\n",
        "        self.degree_of_polynomial = degree_of_polynomial\n",
        "        self.backcast_size = backcast_size\n",
        "        self.forecast_size = forecast_size\n",
        "\n",
        "    def forward(self, theta, input_size, mode):\n",
        "        batch_size = theta.size(0)\n",
        "\n",
        "        if mode == 'backcast':\n",
        "            t = torch.arange(0, self.backcast_size, dtype=torch.float32) / self.backcast_size\n",
        "        else:  # forecast\n",
        "            t = torch.arange(self.backcast_size, self.backcast_size + self.forecast_size, dtype=torch.float32) / self.backcast_size\n",
        "\n",
        "        t = t.to(theta.device)\n",
        "        T = torch.stack([t ** i for i in range(self.degree_of_polynomial + 1)], dim=0).T  # [time, degree]\n",
        "        T = T.unsqueeze(0).expand(batch_size, -1, -1)  # [batch, time, degree]\n",
        "\n",
        "        theta = theta.unsqueeze(-1)  # [batch, degree, 1]\n",
        "\n",
        "        return torch.bmm(T, theta).squeeze(-1)  # [batch, time]\n",
        "\n",
        "\n",
        "class SeasonalityBasis(nn.Module):\n",
        "    \"\"\"\n",
        "    Seasonality basis function using Fourier series\n",
        "    \"\"\"\n",
        "    def __init__(self, harmonics, backcast_size, forecast_size):\n",
        "        super().__init__()\n",
        "        self.harmonics = harmonics\n",
        "        self.backcast_size = backcast_size\n",
        "        self.forecast_size = forecast_size\n",
        "\n",
        "    def forward(self, theta, input_size, mode):\n",
        "        batch_size = theta.size(0)\n",
        "\n",
        "        if mode == 'backcast':\n",
        "            t = torch.arange(0, self.backcast_size, dtype=torch.float32)\n",
        "        else:  # forecast\n",
        "            t = torch.arange(self.backcast_size, self.backcast_size + self.forecast_size, dtype=torch.float32)\n",
        "\n",
        "        t = t.to(theta.device)\n",
        "\n",
        "        # Create Fourier basis\n",
        "        S = torch.zeros(len(t), 2 * self.harmonics).to(theta.device)\n",
        "        for i in range(self.harmonics):\n",
        "            S[:, 2*i] = torch.sin(2 * np.pi * (i + 1) * t / self.backcast_size)\n",
        "            S[:, 2*i + 1] = torch.cos(2 * np.pi * (i + 1) * t / self.backcast_size)\n",
        "\n",
        "        S = S.unsqueeze(0).expand(batch_size, -1, -1)  # [batch, time, 2*harmonics]\n",
        "        theta = theta.unsqueeze(-1)  # [batch, 2*harmonics, 1]\n",
        "\n",
        "        return torch.bmm(S, theta).squeeze(-1)  # [batch, time]"
      ],
      "metadata": {
        "id": "cugD99_Z3Wp5"
      },
      "execution_count": 11,
      "outputs": []
    },
    {
      "cell_type": "markdown",
      "source": [
        "## Block"
      ],
      "metadata": {
        "id": "cpTU3Lsv3glY"
      }
    },
    {
      "cell_type": "code",
      "source": [
        "class NBeatsBlock(nn.Module):\n",
        "    \"\"\"\n",
        "    N-BEATS block which takes a basis expansion as an argument.\n",
        "    Modified to handle multivariate input (sales + features).\n",
        "    \"\"\"\n",
        "    def __init__(self, input_size, feature_size, theta_size, basis_function, layers, layer_size):\n",
        "        super().__init__()\n",
        "        self.input_size = input_size  # backcast_length\n",
        "        self.feature_size = feature_size  # number of features\n",
        "        self.theta_size = theta_size\n",
        "        self.basis_function = basis_function\n",
        "\n",
        "        # Total input size is backcast_length * (1 + feature_size)\n",
        "        # 1 for sales + feature_size for additional features\n",
        "        total_input_size = input_size * (1 + feature_size)\n",
        "\n",
        "        # Fully connected stack\n",
        "        layers_list = [nn.Linear(total_input_size, layer_size), nn.ReLU()]\n",
        "        for _ in range(layers - 1):\n",
        "            layers_list.append(nn.Linear(layer_size, layer_size))\n",
        "            layers_list.append(nn.ReLU())\n",
        "\n",
        "        self.fc_stack = nn.Sequential(*layers_list)\n",
        "\n",
        "        # Theta layers (coefficients for basis functions)\n",
        "        self.theta_b_fc = nn.Linear(layer_size, theta_size)\n",
        "        self.theta_f_fc = nn.Linear(layer_size, theta_size)\n",
        "\n",
        "    def forward(self, x, features):\n",
        "        # x shape: [batch_size, backcast_length] (sales data)\n",
        "        # features shape: [batch_size, backcast_length, feature_size]\n",
        "\n",
        "        # Flatten and concatenate sales with features\n",
        "        batch_size = x.size(0)\n",
        "        x_flat = x.flatten(1)  # [batch_size, backcast_length]\n",
        "        features_flat = features.flatten(1)  # [batch_size, backcast_length * feature_size]\n",
        "        combined_input = torch.cat([x_flat, features_flat], dim=1)  # [batch_size, total_input_size]\n",
        "\n",
        "        # Pass through fully connected stack\n",
        "        h = self.fc_stack(combined_input)\n",
        "\n",
        "        # Get theta coefficients\n",
        "        theta_b = self.theta_b_fc(h)\n",
        "        theta_f = self.theta_f_fc(h)\n",
        "\n",
        "        # Generate basis functions and apply theta coefficients\n",
        "        backcast = self.basis_function(theta_b, x.size(-1), 'backcast')\n",
        "        forecast = self.basis_function(theta_f, x.size(-1), 'forecast')\n",
        "\n",
        "        return backcast, forecast"
      ],
      "metadata": {
        "id": "CoqEONoZ2cbX"
      },
      "execution_count": 12,
      "outputs": []
    },
    {
      "cell_type": "markdown",
      "source": [
        "## Stack"
      ],
      "metadata": {
        "id": "5hdGHM6k3ofQ"
      }
    },
    {
      "cell_type": "code",
      "source": [
        "class NBeatsStack(nn.Module):\n",
        "    \"\"\"\n",
        "    N-BEATS stack containing multiple blocks of the same type\n",
        "    \"\"\"\n",
        "    def __init__(self,\n",
        "                 stack_type,\n",
        "                 backcast_length,\n",
        "                 forecast_length,\n",
        "                 feature_size,\n",
        "                 nb_blocks,\n",
        "                 hidden_layer_units,\n",
        "                 nb_layers,\n",
        "                 theta_dim,\n",
        "                 share_weights=False):\n",
        "        super().__init__()\n",
        "\n",
        "        self.stack_type = stack_type\n",
        "        self.backcast_length = backcast_length\n",
        "        self.forecast_length = forecast_length\n",
        "        self.feature_size = feature_size\n",
        "        self.nb_blocks = nb_blocks\n",
        "        self.share_weights = share_weights\n",
        "\n",
        "        # Create basis function based on stack type\n",
        "        if stack_type == 'generic':\n",
        "            self.basis_function = GenericBasis(backcast_length, forecast_length)\n",
        "            theta_size = backcast_length + forecast_length\n",
        "        elif stack_type == 'trend':\n",
        "            self.basis_function = TrendBasis(theta_dim - 1, backcast_length, forecast_length)\n",
        "            theta_size = theta_dim\n",
        "        elif stack_type == 'seasonality':\n",
        "            self.basis_function = SeasonalityBasis(theta_dim // 2, backcast_length, forecast_length)\n",
        "            theta_size = theta_dim\n",
        "        else:\n",
        "            raise ValueError(f\"Unknown stack type: {stack_type}\")\n",
        "\n",
        "        # Create blocks\n",
        "        self.blocks = nn.ModuleList()\n",
        "\n",
        "        if share_weights and nb_blocks > 1:\n",
        "            # Share weights across blocks in the stack\n",
        "            shared_block = NBeatsBlock(\n",
        "                input_size=backcast_length,\n",
        "                feature_size=feature_size,\n",
        "                theta_size=theta_size,\n",
        "                basis_function=self.basis_function,\n",
        "                layers=nb_layers,\n",
        "                layer_size=hidden_layer_units\n",
        "            )\n",
        "            self.blocks = nn.ModuleList([shared_block for _ in range(nb_blocks)])\n",
        "        else:\n",
        "            # Create separate blocks\n",
        "            for _ in range(nb_blocks):\n",
        "                block = NBeatsBlock(\n",
        "                    input_size=backcast_length,\n",
        "                    feature_size=feature_size,\n",
        "                    theta_size=theta_size,\n",
        "                    basis_function=self.basis_function,\n",
        "                    layers=nb_layers,\n",
        "                    layer_size=hidden_layer_units\n",
        "                )\n",
        "                self.blocks.append(block)\n",
        "\n",
        "    def forward(self, x, features):\n",
        "        \"\"\"\n",
        "        Forward pass through the stack\n",
        "\n",
        "        Args:\n",
        "            x: [batch_size, backcast_length] - sales residuals\n",
        "            features: [batch_size, backcast_length, feature_size] - external features\n",
        "\n",
        "        Returns:\n",
        "            residuals: [batch_size, backcast_length] - updated residuals after this stack\n",
        "            forecast: [batch_size, forecast_length] - forecast contribution from this stack\n",
        "        \"\"\"\n",
        "        residuals = x\n",
        "        forecast = torch.zeros(x.size(0), self.forecast_length).to(x.device)\n",
        "\n",
        "        for block in self.blocks:\n",
        "            backcast, block_forecast = block(residuals, features)\n",
        "            residuals = residuals - backcast\n",
        "            forecast = forecast + block_forecast\n",
        "\n",
        "        return residuals, forecast"
      ],
      "metadata": {
        "id": "3gyxI7-M3qEQ"
      },
      "execution_count": 13,
      "outputs": []
    },
    {
      "cell_type": "markdown",
      "source": [
        "## Model"
      ],
      "metadata": {
        "id": "wfs6BY8q3wu3"
      }
    },
    {
      "cell_type": "code",
      "source": [
        "class NBeatsModel(nn.Module):\n",
        "    \"\"\"\n",
        "    N-BEATS model implementation with multivariate support\n",
        "    \"\"\"\n",
        "    def __init__(self,\n",
        "                 backcast_length=52,  # Look back 20 weeks\n",
        "                 forecast_length=10,  # Forecast 10 weeks ahead\n",
        "                 feature_size=7,      # Number of additional features\n",
        "                 stack_types=['trend', 'seasonality', 'generic'],\n",
        "                 nb_blocks_per_stack=3,\n",
        "                 hidden_layer_units=512,\n",
        "                 nb_layers=4,\n",
        "                 share_weights_in_stack=False,\n",
        "                 thetas_dim=[4, 8, 8]):\n",
        "        super().__init__()\n",
        "\n",
        "        self.backcast_length = backcast_length\n",
        "        self.forecast_length = forecast_length\n",
        "        self.feature_size = feature_size\n",
        "        self.stack_types = stack_types\n",
        "        self.nb_blocks_per_stack = nb_blocks_per_stack\n",
        "        self.hidden_layer_units = hidden_layer_units\n",
        "        self.nb_layers = nb_layers\n",
        "        self.thetas_dim = thetas_dim\n",
        "\n",
        "        # Create stacks\n",
        "        self.stacks = nn.ModuleList()\n",
        "\n",
        "        for stack_id, stack_type in enumerate(stack_types):\n",
        "            if stack_type == 'generic':\n",
        "                basis_function = GenericBasis(backcast_length, forecast_length)\n",
        "                theta_size = backcast_length + forecast_length\n",
        "            elif stack_type == 'trend':\n",
        "                basis_function = TrendBasis(thetas_dim[stack_id] - 1, backcast_length, forecast_length)\n",
        "                theta_size = thetas_dim[stack_id]\n",
        "            elif stack_type == 'seasonality':\n",
        "                basis_function = SeasonalityBasis(thetas_dim[stack_id] // 2, backcast_length, forecast_length)\n",
        "                theta_size = thetas_dim[stack_id]\n",
        "\n",
        "            # Create blocks for this stack\n",
        "            blocks = nn.ModuleList()\n",
        "            for _ in range(nb_blocks_per_stack):\n",
        "                block = NBeatsBlock(\n",
        "                    input_size=backcast_length,\n",
        "                    feature_size=feature_size,\n",
        "                    theta_size=theta_size,\n",
        "                    basis_function=basis_function,\n",
        "                    layers=nb_layers,\n",
        "                    layer_size=hidden_layer_units\n",
        "                )\n",
        "                blocks.append(block)\n",
        "\n",
        "            self.stacks.append(blocks)\n",
        "\n",
        "    def forward(self, x, features):\n",
        "        # x shape: [batch_size, backcast_length] (sales data)\n",
        "        # features shape: [batch_size, backcast_length, feature_size]\n",
        "        residuals = x\n",
        "        forecast = torch.zeros(x.size(0), self.forecast_length).to(x.device)\n",
        "\n",
        "        for stack in self.stacks:\n",
        "            stack_residuals = residuals\n",
        "            stack_forecast = torch.zeros_like(forecast)\n",
        "\n",
        "            for block in stack:\n",
        "                backcast, block_forecast = block(stack_residuals, features)\n",
        "                stack_residuals = stack_residuals - backcast\n",
        "                stack_forecast = stack_forecast + block_forecast\n",
        "\n",
        "            residuals = stack_residuals\n",
        "            forecast = forecast + stack_forecast\n",
        "\n",
        "        return forecast"
      ],
      "metadata": {
        "id": "e1y3vj8y3x_I"
      },
      "execution_count": 14,
      "outputs": []
    },
    {
      "cell_type": "markdown",
      "source": [
        "# Dataset"
      ],
      "metadata": {
        "id": "9ZfUKIP39Ip6"
      }
    },
    {
      "cell_type": "code",
      "source": [
        "class SalesDataset(Dataset):\n",
        "    def __init__(self, sales_data, features_data, backcast_length, forecast_length):\n",
        "        self.sales_data = sales_data\n",
        "        self.features_data = features_data\n",
        "        self.backcast_length = backcast_length\n",
        "        self.forecast_length = forecast_length\n",
        "\n",
        "        # Create sequences\n",
        "        self.sequences = []\n",
        "        for i in range(len(sales_data) - backcast_length - forecast_length + 1):\n",
        "            # Sales sequences\n",
        "            sales_backcast = sales_data[i:i + backcast_length]\n",
        "            sales_forecast = sales_data[i + backcast_length:i + backcast_length + forecast_length]\n",
        "\n",
        "            # Feature sequences (backcast only, features aren't predicted)\n",
        "            features_backcast = features_data[i:i + backcast_length]\n",
        "\n",
        "            self.sequences.append((sales_backcast, features_backcast, sales_forecast))\n",
        "\n",
        "    def __len__(self):\n",
        "        return len(self.sequences)\n",
        "\n",
        "    def __getitem__(self, idx):\n",
        "        sales_backcast, features_backcast, sales_forecast = self.sequences[idx]\n",
        "        return (torch.FloatTensor(sales_backcast),\n",
        "                torch.FloatTensor(features_backcast),\n",
        "                torch.FloatTensor(sales_forecast))"
      ],
      "metadata": {
        "id": "Rg3Xr0v19KFa"
      },
      "execution_count": 15,
      "outputs": []
    },
    {
      "cell_type": "markdown",
      "source": [
        "# Prepare Dataset"
      ],
      "metadata": {
        "id": "Bfh-QHoU_NKy"
      }
    },
    {
      "cell_type": "code",
      "source": [
        "# Handle missing data\n",
        "nan_vars = ['MarkDown1', 'MarkDown2', 'MarkDown3', 'MarkDown4', 'MarkDown5']\n",
        "\n",
        "# Select features to use (excluding target and identifiers)\n",
        "feature_cols = ['Store_Dept', 'Date', 'Temperature', 'Fuel_Price', 'MarkDown1', 'MarkDown2',\n",
        "                'MarkDown3', 'MarkDown4', 'MarkDown5', 'CPI', 'Unemployment', 'Type', 'Size']\n",
        "\n",
        "# Create preprocessing pipeline\n",
        "preprocessor = Pipeline([\n",
        "    ('cleaner', CleaningPreprocessor(nan_vars=nan_vars)),\n",
        "    ('encoder', EncoderPreprocessor()),\n",
        "    ('formatter', FormatterPreprocessor()),\n",
        "    ('selector', SelectionPreprocessor(feature_cols=feature_cols)),\n",
        "    ('scaler', ScalerPreprocessor())\n",
        "])\n",
        "\n",
        "# Fit and transform the data\n",
        "df_p = preprocessor.fit_transform(df.copy())\n",
        "\n",
        "df_p.head()"
      ],
      "metadata": {
        "colab": {
          "base_uri": "https://localhost:8080/",
          "height": 184
        },
        "id": "_LdF2A8W_QBO",
        "outputId": "511791e1-794b-464a-8be6-9aa55f8fb635"
      },
      "execution_count": 52,
      "outputs": [
        {
          "output_type": "error",
          "ename": "AttributeError",
          "evalue": "'numpy.ndarray' object has no attribute 'head'",
          "traceback": [
            "\u001b[0;31m---------------------------------------------------------------------------\u001b[0m",
            "\u001b[0;31mAttributeError\u001b[0m                            Traceback (most recent call last)",
            "\u001b[0;32m/tmp/ipython-input-52-3955541911.py\u001b[0m in \u001b[0;36m<cell line: 0>\u001b[0;34m()\u001b[0m\n\u001b[1;32m     18\u001b[0m \u001b[0mdf_p\u001b[0m \u001b[0;34m=\u001b[0m \u001b[0mpreprocessor\u001b[0m\u001b[0;34m.\u001b[0m\u001b[0mfit_transform\u001b[0m\u001b[0;34m(\u001b[0m\u001b[0mdf\u001b[0m\u001b[0;34m.\u001b[0m\u001b[0mcopy\u001b[0m\u001b[0;34m(\u001b[0m\u001b[0;34m)\u001b[0m\u001b[0;34m)\u001b[0m\u001b[0;34m\u001b[0m\u001b[0;34m\u001b[0m\u001b[0m\n\u001b[1;32m     19\u001b[0m \u001b[0;34m\u001b[0m\u001b[0m\n\u001b[0;32m---> 20\u001b[0;31m \u001b[0mdf_p\u001b[0m\u001b[0;34m.\u001b[0m\u001b[0mhead\u001b[0m\u001b[0;34m(\u001b[0m\u001b[0;34m)\u001b[0m\u001b[0;34m\u001b[0m\u001b[0;34m\u001b[0m\u001b[0m\n\u001b[0m",
            "\u001b[0;31mAttributeError\u001b[0m: 'numpy.ndarray' object has no attribute 'head'"
          ]
        }
      ]
    },
    {
      "cell_type": "code",
      "source": [
        "df_sales = df_p['Weekly_Sales'].values\n",
        "df_feats ="
      ],
      "metadata": {
        "id": "KTaY0W82GrZe"
      },
      "execution_count": 41,
      "outputs": []
    },
    {
      "cell_type": "markdown",
      "source": [
        "# Split\n"
      ],
      "metadata": {
        "id": "O7wP3m1Iv7Mg"
      }
    },
    {
      "cell_type": "code",
      "source": [
        "train_end_date = pd.to_datetime('2012-07-20')\n",
        "\n",
        "df_train = df[df['Date'] < train_end_date]\n",
        "df_val = df[df['Date'] >= train_end_date]"
      ],
      "metadata": {
        "id": "ShIso4abwAGk"
      },
      "execution_count": 31,
      "outputs": []
    },
    {
      "cell_type": "code",
      "source": [
        "print(f\"Train sales data size: {len(df_train)}\")\n",
        "print(f\"Test sales data size: {len(df_val)}\")\n",
        "print(f\"Train features data shape: {df_train.shape}\")\n",
        "print(f\"Test features data shape: {df_val.shape}\")"
      ],
      "metadata": {
        "colab": {
          "base_uri": "https://localhost:8080/"
        },
        "id": "WV261vrbI5Vu",
        "outputId": "6849b00e-459f-4962-89ea-d993a64abc8d"
      },
      "execution_count": 33,
      "outputs": [
        {
          "output_type": "stream",
          "name": "stdout",
          "text": [
            "Train sales data size: 377155\n",
            "Test sales data size: 44415\n",
            "Train features data shape: (377155, 15)\n",
            "Test features data shape: (44415, 15)\n"
          ]
        }
      ]
    },
    {
      "cell_type": "code",
      "source": [
        "df_train = df_train.set_index('Date')\n",
        "df_val = df_val.set_index('Date')"
      ],
      "metadata": {
        "id": "-zOG3HCawBil"
      },
      "execution_count": 32,
      "outputs": []
    },
    {
      "cell_type": "code",
      "source": [
        "# Create datasets\n",
        "train_dataset = TimeSeriesDataset(sales_normalized, train_features_data, BACKCAST_LENGTH, FORECAST_LENGTH)\n",
        "test_dataset = TimeSeriesDataset(test_sales_data, test_features_data, BACKCAST_LENGTH, FORECAST_LENGTH)\n",
        "\n",
        "# Create data loaders\n",
        "train_loader = DataLoader(train_dataset, batch_size=BATCH_SIZE, shuffle=True)\n",
        "test_loader = DataLoader(test_dataset, batch_size=BATCH_SIZE, shuffle=False)"
      ],
      "metadata": {
        "id": "ntc974LdJpzs"
      },
      "execution_count": null,
      "outputs": []
    },
    {
      "cell_type": "markdown",
      "source": [
        "# Fit Model"
      ],
      "metadata": {
        "id": "9Iy2rS4qLw76"
      }
    },
    {
      "cell_type": "code",
      "source": [
        "from sklearn.pipeline import Pipeline\n",
        "\n",
        "pipeline = Pipeline([\n",
        "    ('cleaner', CleaningPreprocessor(nan_vars=nan_vars)),\n",
        "    ('encoder', EncoderPreprocessor())\n",
        "])"
      ],
      "metadata": {
        "id": "wpsXW7tuR7uV"
      },
      "execution_count": null,
      "outputs": []
    },
    {
      "cell_type": "code",
      "source": [
        "pipeline.fit(sd_train_df)\n",
        "sd_train_df = pipeline.transform(sd_train_df)\n",
        "sd_val_df = pipeline.transform(sd_val_df)"
      ],
      "metadata": {
        "id": "rcXPyK--SR-M"
      },
      "execution_count": null,
      "outputs": []
    },
    {
      "cell_type": "code",
      "source": [
        "my_order = (1, 1, 1)\n",
        "my_seasonal_order = (1, 1, 1, 51)\n",
        "\n",
        "exog_vars_list = ['IsHoliday_x', 'Temperature',\t'Fuel_Price',\n",
        "                  'MarkDown1', 'MarkDown2',\t'MarkDown3', 'MarkDown4',\t'MarkDown5',\n",
        "                  'CPI',\t'Unemployment',\t'Type',\t'Size']\n",
        "\n",
        "exog_vars_train = sd_train_df[exog_vars_list]\n",
        "\n",
        "model = SARIMAX(\n",
        "    sd_train_df['Weekly_Sales'],\n",
        "    exog=exog_vars_train,\n",
        "    order=my_order,\n",
        "    seasonal_order=my_seasonal_order\n",
        ")"
      ],
      "metadata": {
        "id": "JxYB8-P_Lvcg"
      },
      "execution_count": null,
      "outputs": []
    },
    {
      "cell_type": "code",
      "source": [
        "start = time()\n",
        "model_fit = model.fit()\n",
        "end = time()\n",
        "print('Model Fitting Time:', end - start)"
      ],
      "metadata": {
        "colab": {
          "base_uri": "https://localhost:8080/",
          "height": 375
        },
        "id": "pOf7Q0l9Lodv",
        "outputId": "d414012f-c835-4da2-9de7-efe69b033148"
      },
      "execution_count": null,
      "outputs": [
        {
          "output_type": "error",
          "ename": "KeyboardInterrupt",
          "evalue": "",
          "traceback": [
            "\u001b[0;31m---------------------------------------------------------------------------\u001b[0m",
            "\u001b[0;31mKeyboardInterrupt\u001b[0m                         Traceback (most recent call last)",
            "\u001b[0;32m/tmp/ipython-input-92-269368822.py\u001b[0m in \u001b[0;36m<cell line: 0>\u001b[0;34m()\u001b[0m\n\u001b[1;32m      1\u001b[0m \u001b[0mstart\u001b[0m \u001b[0;34m=\u001b[0m \u001b[0mtime\u001b[0m\u001b[0;34m(\u001b[0m\u001b[0;34m)\u001b[0m\u001b[0;34m\u001b[0m\u001b[0;34m\u001b[0m\u001b[0m\n\u001b[0;32m----> 2\u001b[0;31m \u001b[0mmodel_fit\u001b[0m \u001b[0;34m=\u001b[0m \u001b[0mmodel\u001b[0m\u001b[0;34m.\u001b[0m\u001b[0mfit\u001b[0m\u001b[0;34m(\u001b[0m\u001b[0;34m)\u001b[0m\u001b[0;34m\u001b[0m\u001b[0;34m\u001b[0m\u001b[0m\n\u001b[0m\u001b[1;32m      3\u001b[0m \u001b[0mend\u001b[0m \u001b[0;34m=\u001b[0m \u001b[0mtime\u001b[0m\u001b[0;34m(\u001b[0m\u001b[0;34m)\u001b[0m\u001b[0;34m\u001b[0m\u001b[0;34m\u001b[0m\u001b[0m\n\u001b[1;32m      4\u001b[0m \u001b[0mprint\u001b[0m\u001b[0;34m(\u001b[0m\u001b[0;34m'Model Fitting Time:'\u001b[0m\u001b[0;34m,\u001b[0m \u001b[0mend\u001b[0m \u001b[0;34m-\u001b[0m \u001b[0mstart\u001b[0m\u001b[0;34m)\u001b[0m\u001b[0;34m\u001b[0m\u001b[0;34m\u001b[0m\u001b[0m\n",
            "\u001b[0;32m/usr/local/lib/python3.11/dist-packages/statsmodels/tsa/statespace/mlemodel.py\u001b[0m in \u001b[0;36mfit\u001b[0;34m(self, start_params, transformed, includes_fixed, cov_type, cov_kwds, method, maxiter, full_output, disp, callback, return_params, optim_score, optim_complex_step, optim_hessian, flags, low_memory, **kwargs)\u001b[0m\n\u001b[1;32m    703\u001b[0m                 \u001b[0mflags\u001b[0m\u001b[0;34m[\u001b[0m\u001b[0;34m'hessian_method'\u001b[0m\u001b[0;34m]\u001b[0m \u001b[0;34m=\u001b[0m \u001b[0moptim_hessian\u001b[0m\u001b[0;34m\u001b[0m\u001b[0;34m\u001b[0m\u001b[0m\n\u001b[1;32m    704\u001b[0m             \u001b[0mfargs\u001b[0m \u001b[0;34m=\u001b[0m \u001b[0;34m(\u001b[0m\u001b[0mflags\u001b[0m\u001b[0;34m,\u001b[0m\u001b[0;34m)\u001b[0m\u001b[0;34m\u001b[0m\u001b[0;34m\u001b[0m\u001b[0m\n\u001b[0;32m--> 705\u001b[0;31m             mlefit = super().fit(start_params, method=method,\n\u001b[0m\u001b[1;32m    706\u001b[0m                                  \u001b[0mfargs\u001b[0m\u001b[0;34m=\u001b[0m\u001b[0mfargs\u001b[0m\u001b[0;34m,\u001b[0m\u001b[0;34m\u001b[0m\u001b[0;34m\u001b[0m\u001b[0m\n\u001b[1;32m    707\u001b[0m                                  \u001b[0mmaxiter\u001b[0m\u001b[0;34m=\u001b[0m\u001b[0mmaxiter\u001b[0m\u001b[0;34m,\u001b[0m\u001b[0;34m\u001b[0m\u001b[0;34m\u001b[0m\u001b[0m\n",
            "\u001b[0;32m/usr/local/lib/python3.11/dist-packages/statsmodels/base/model.py\u001b[0m in \u001b[0;36mfit\u001b[0;34m(self, start_params, method, maxiter, full_output, disp, fargs, callback, retall, skip_hessian, **kwargs)\u001b[0m\n\u001b[1;32m    564\u001b[0m \u001b[0;34m\u001b[0m\u001b[0m\n\u001b[1;32m    565\u001b[0m         \u001b[0moptimizer\u001b[0m \u001b[0;34m=\u001b[0m \u001b[0mOptimizer\u001b[0m\u001b[0;34m(\u001b[0m\u001b[0;34m)\u001b[0m\u001b[0;34m\u001b[0m\u001b[0;34m\u001b[0m\u001b[0m\n\u001b[0;32m--> 566\u001b[0;31m         xopt, retvals, optim_settings = optimizer._fit(f, score, start_params,\n\u001b[0m\u001b[1;32m    567\u001b[0m                                                        \u001b[0mfargs\u001b[0m\u001b[0;34m,\u001b[0m \u001b[0mkwargs\u001b[0m\u001b[0;34m,\u001b[0m\u001b[0;34m\u001b[0m\u001b[0;34m\u001b[0m\u001b[0m\n\u001b[1;32m    568\u001b[0m                                                        \u001b[0mhessian\u001b[0m\u001b[0;34m=\u001b[0m\u001b[0mhess\u001b[0m\u001b[0;34m,\u001b[0m\u001b[0;34m\u001b[0m\u001b[0;34m\u001b[0m\u001b[0m\n",
            "\u001b[0;32m/usr/local/lib/python3.11/dist-packages/statsmodels/base/optimizer.py\u001b[0m in \u001b[0;36m_fit\u001b[0;34m(self, objective, gradient, start_params, fargs, kwargs, hessian, method, maxiter, full_output, disp, callback, retall)\u001b[0m\n\u001b[1;32m    241\u001b[0m \u001b[0;34m\u001b[0m\u001b[0m\n\u001b[1;32m    242\u001b[0m         \u001b[0mfunc\u001b[0m \u001b[0;34m=\u001b[0m \u001b[0mfit_funcs\u001b[0m\u001b[0;34m[\u001b[0m\u001b[0mmethod\u001b[0m\u001b[0;34m]\u001b[0m\u001b[0;34m\u001b[0m\u001b[0;34m\u001b[0m\u001b[0m\n\u001b[0;32m--> 243\u001b[0;31m         xopt, retvals = func(objective, gradient, start_params, fargs, kwargs,\n\u001b[0m\u001b[1;32m    244\u001b[0m                              \u001b[0mdisp\u001b[0m\u001b[0;34m=\u001b[0m\u001b[0mdisp\u001b[0m\u001b[0;34m,\u001b[0m \u001b[0mmaxiter\u001b[0m\u001b[0;34m=\u001b[0m\u001b[0mmaxiter\u001b[0m\u001b[0;34m,\u001b[0m \u001b[0mcallback\u001b[0m\u001b[0;34m=\u001b[0m\u001b[0mcallback\u001b[0m\u001b[0;34m,\u001b[0m\u001b[0;34m\u001b[0m\u001b[0;34m\u001b[0m\u001b[0m\n\u001b[1;32m    245\u001b[0m                              \u001b[0mretall\u001b[0m\u001b[0;34m=\u001b[0m\u001b[0mretall\u001b[0m\u001b[0;34m,\u001b[0m \u001b[0mfull_output\u001b[0m\u001b[0;34m=\u001b[0m\u001b[0mfull_output\u001b[0m\u001b[0;34m,\u001b[0m\u001b[0;34m\u001b[0m\u001b[0;34m\u001b[0m\u001b[0m\n",
            "\u001b[0;32m/usr/local/lib/python3.11/dist-packages/statsmodels/base/optimizer.py\u001b[0m in \u001b[0;36m_fit_lbfgs\u001b[0;34m(f, score, start_params, fargs, kwargs, disp, maxiter, callback, retall, full_output, hess)\u001b[0m\n\u001b[1;32m    658\u001b[0m         \u001b[0mfunc\u001b[0m \u001b[0;34m=\u001b[0m \u001b[0mf\u001b[0m\u001b[0;34m\u001b[0m\u001b[0;34m\u001b[0m\u001b[0m\n\u001b[1;32m    659\u001b[0m \u001b[0;34m\u001b[0m\u001b[0m\n\u001b[0;32m--> 660\u001b[0;31m     retvals = optimize.fmin_l_bfgs_b(func, start_params, maxiter=maxiter,\n\u001b[0m\u001b[1;32m    661\u001b[0m                                      \u001b[0mcallback\u001b[0m\u001b[0;34m=\u001b[0m\u001b[0mcallback\u001b[0m\u001b[0;34m,\u001b[0m \u001b[0margs\u001b[0m\u001b[0;34m=\u001b[0m\u001b[0mfargs\u001b[0m\u001b[0;34m,\u001b[0m\u001b[0;34m\u001b[0m\u001b[0;34m\u001b[0m\u001b[0m\n\u001b[1;32m    662\u001b[0m                                      \u001b[0mbounds\u001b[0m\u001b[0;34m=\u001b[0m\u001b[0mbounds\u001b[0m\u001b[0;34m,\u001b[0m \u001b[0mdisp\u001b[0m\u001b[0;34m=\u001b[0m\u001b[0mdisp\u001b[0m\u001b[0;34m,\u001b[0m\u001b[0;34m\u001b[0m\u001b[0;34m\u001b[0m\u001b[0m\n",
            "\u001b[0;32m/usr/local/lib/python3.11/dist-packages/scipy/optimize/_lbfgsb_py.py\u001b[0m in \u001b[0;36mfmin_l_bfgs_b\u001b[0;34m(func, x0, fprime, args, approx_grad, bounds, m, factr, pgtol, epsilon, iprint, maxfun, maxiter, disp, callback, maxls)\u001b[0m\n\u001b[1;32m    275\u001b[0m             'maxls': maxls}\n\u001b[1;32m    276\u001b[0m \u001b[0;34m\u001b[0m\u001b[0m\n\u001b[0;32m--> 277\u001b[0;31m     res = _minimize_lbfgsb(fun, x0, args=args, jac=jac, bounds=bounds,\n\u001b[0m\u001b[1;32m    278\u001b[0m                            **opts)\n\u001b[1;32m    279\u001b[0m     d = {'grad': res['jac'],\n",
            "\u001b[0;32m/usr/local/lib/python3.11/dist-packages/scipy/optimize/_lbfgsb_py.py\u001b[0m in \u001b[0;36m_minimize_lbfgsb\u001b[0;34m(fun, x0, args, jac, bounds, disp, maxcor, ftol, gtol, eps, maxfun, maxiter, iprint, callback, maxls, finite_diff_rel_step, **unknown_options)\u001b[0m\n\u001b[1;32m    439\u001b[0m             \u001b[0;31m# until the completion of the current minimization iteration.\u001b[0m\u001b[0;34m\u001b[0m\u001b[0;34m\u001b[0m\u001b[0m\n\u001b[1;32m    440\u001b[0m             \u001b[0;31m# Overwrite f and g:\u001b[0m\u001b[0;34m\u001b[0m\u001b[0;34m\u001b[0m\u001b[0m\n\u001b[0;32m--> 441\u001b[0;31m             \u001b[0mf\u001b[0m\u001b[0;34m,\u001b[0m \u001b[0mg\u001b[0m \u001b[0;34m=\u001b[0m \u001b[0mfunc_and_grad\u001b[0m\u001b[0;34m(\u001b[0m\u001b[0mx\u001b[0m\u001b[0;34m)\u001b[0m\u001b[0;34m\u001b[0m\u001b[0;34m\u001b[0m\u001b[0m\n\u001b[0m\u001b[1;32m    442\u001b[0m         \u001b[0;32melif\u001b[0m \u001b[0mtask\u001b[0m\u001b[0;34m[\u001b[0m\u001b[0;36m0\u001b[0m\u001b[0;34m]\u001b[0m \u001b[0;34m==\u001b[0m \u001b[0;36m1\u001b[0m\u001b[0;34m:\u001b[0m\u001b[0;34m\u001b[0m\u001b[0;34m\u001b[0m\u001b[0m\n\u001b[1;32m    443\u001b[0m             \u001b[0;31m# new iteration\u001b[0m\u001b[0;34m\u001b[0m\u001b[0;34m\u001b[0m\u001b[0m\n",
            "\u001b[0;32m/usr/local/lib/python3.11/dist-packages/scipy/optimize/_differentiable_functions.py\u001b[0m in \u001b[0;36mfun_and_grad\u001b[0;34m(self, x)\u001b[0m\n\u001b[1;32m    343\u001b[0m             \u001b[0mself\u001b[0m\u001b[0;34m.\u001b[0m\u001b[0m_update_x\u001b[0m\u001b[0;34m(\u001b[0m\u001b[0mx\u001b[0m\u001b[0;34m)\u001b[0m\u001b[0;34m\u001b[0m\u001b[0;34m\u001b[0m\u001b[0m\n\u001b[1;32m    344\u001b[0m         \u001b[0mself\u001b[0m\u001b[0;34m.\u001b[0m\u001b[0m_update_fun\u001b[0m\u001b[0;34m(\u001b[0m\u001b[0;34m)\u001b[0m\u001b[0;34m\u001b[0m\u001b[0;34m\u001b[0m\u001b[0m\n\u001b[0;32m--> 345\u001b[0;31m         \u001b[0mself\u001b[0m\u001b[0;34m.\u001b[0m\u001b[0m_update_grad\u001b[0m\u001b[0;34m(\u001b[0m\u001b[0;34m)\u001b[0m\u001b[0;34m\u001b[0m\u001b[0;34m\u001b[0m\u001b[0m\n\u001b[0m\u001b[1;32m    346\u001b[0m         \u001b[0;32mreturn\u001b[0m \u001b[0mself\u001b[0m\u001b[0;34m.\u001b[0m\u001b[0mf\u001b[0m\u001b[0;34m,\u001b[0m \u001b[0mself\u001b[0m\u001b[0;34m.\u001b[0m\u001b[0mg\u001b[0m\u001b[0;34m\u001b[0m\u001b[0;34m\u001b[0m\u001b[0m\n\u001b[1;32m    347\u001b[0m \u001b[0;34m\u001b[0m\u001b[0m\n",
            "\u001b[0;32m/usr/local/lib/python3.11/dist-packages/scipy/optimize/_differentiable_functions.py\u001b[0m in \u001b[0;36m_update_grad\u001b[0;34m(self)\u001b[0m\n\u001b[1;32m    305\u001b[0m             \u001b[0;32mif\u001b[0m \u001b[0mself\u001b[0m\u001b[0;34m.\u001b[0m\u001b[0m_orig_grad\u001b[0m \u001b[0;32min\u001b[0m \u001b[0mFD_METHODS\u001b[0m\u001b[0;34m:\u001b[0m\u001b[0;34m\u001b[0m\u001b[0;34m\u001b[0m\u001b[0m\n\u001b[1;32m    306\u001b[0m                 \u001b[0mself\u001b[0m\u001b[0;34m.\u001b[0m\u001b[0m_update_fun\u001b[0m\u001b[0;34m(\u001b[0m\u001b[0;34m)\u001b[0m\u001b[0;34m\u001b[0m\u001b[0;34m\u001b[0m\u001b[0m\n\u001b[0;32m--> 307\u001b[0;31m             \u001b[0mself\u001b[0m\u001b[0;34m.\u001b[0m\u001b[0mg\u001b[0m \u001b[0;34m=\u001b[0m \u001b[0mself\u001b[0m\u001b[0;34m.\u001b[0m\u001b[0m_wrapped_grad\u001b[0m\u001b[0;34m(\u001b[0m\u001b[0mself\u001b[0m\u001b[0;34m.\u001b[0m\u001b[0mx\u001b[0m\u001b[0;34m,\u001b[0m \u001b[0mf0\u001b[0m\u001b[0;34m=\u001b[0m\u001b[0mself\u001b[0m\u001b[0;34m.\u001b[0m\u001b[0mf\u001b[0m\u001b[0;34m)\u001b[0m\u001b[0;34m\u001b[0m\u001b[0;34m\u001b[0m\u001b[0m\n\u001b[0m\u001b[1;32m    308\u001b[0m             \u001b[0mself\u001b[0m\u001b[0;34m.\u001b[0m\u001b[0mg_updated\u001b[0m \u001b[0;34m=\u001b[0m \u001b[0;32mTrue\u001b[0m\u001b[0;34m\u001b[0m\u001b[0;34m\u001b[0m\u001b[0m\n\u001b[1;32m    309\u001b[0m \u001b[0;34m\u001b[0m\u001b[0m\n",
            "\u001b[0;32m/usr/local/lib/python3.11/dist-packages/scipy/optimize/_differentiable_functions.py\u001b[0m in \u001b[0;36mwrapped1\u001b[0;34m(x, f0)\u001b[0m\n\u001b[1;32m     46\u001b[0m         \u001b[0;32mdef\u001b[0m \u001b[0mwrapped1\u001b[0m\u001b[0;34m(\u001b[0m\u001b[0mx\u001b[0m\u001b[0;34m,\u001b[0m \u001b[0mf0\u001b[0m\u001b[0;34m=\u001b[0m\u001b[0;32mNone\u001b[0m\u001b[0;34m)\u001b[0m\u001b[0;34m:\u001b[0m\u001b[0;34m\u001b[0m\u001b[0;34m\u001b[0m\u001b[0m\n\u001b[1;32m     47\u001b[0m             \u001b[0mncalls\u001b[0m\u001b[0;34m[\u001b[0m\u001b[0;36m0\u001b[0m\u001b[0;34m]\u001b[0m \u001b[0;34m+=\u001b[0m \u001b[0;36m1\u001b[0m\u001b[0;34m\u001b[0m\u001b[0;34m\u001b[0m\u001b[0m\n\u001b[0;32m---> 48\u001b[0;31m             return approx_derivative(\n\u001b[0m\u001b[1;32m     49\u001b[0m                 \u001b[0mfun\u001b[0m\u001b[0;34m,\u001b[0m \u001b[0mx\u001b[0m\u001b[0;34m,\u001b[0m \u001b[0mf0\u001b[0m\u001b[0;34m=\u001b[0m\u001b[0mf0\u001b[0m\u001b[0;34m,\u001b[0m \u001b[0;34m**\u001b[0m\u001b[0mfinite_diff_options\u001b[0m\u001b[0;34m\u001b[0m\u001b[0;34m\u001b[0m\u001b[0m\n\u001b[1;32m     50\u001b[0m             )\n",
            "\u001b[0;32m/usr/local/lib/python3.11/dist-packages/scipy/optimize/_numdiff.py\u001b[0m in \u001b[0;36mapprox_derivative\u001b[0;34m(fun, x0, method, rel_step, abs_step, f0, bounds, sparsity, as_linear_operator, args, kwargs)\u001b[0m\n\u001b[1;32m    521\u001b[0m \u001b[0;34m\u001b[0m\u001b[0m\n\u001b[1;32m    522\u001b[0m         \u001b[0;32mif\u001b[0m \u001b[0msparsity\u001b[0m \u001b[0;32mis\u001b[0m \u001b[0;32mNone\u001b[0m\u001b[0;34m:\u001b[0m\u001b[0;34m\u001b[0m\u001b[0;34m\u001b[0m\u001b[0m\n\u001b[0;32m--> 523\u001b[0;31m             return _dense_difference(fun_wrapped, x0, f0, h,\n\u001b[0m\u001b[1;32m    524\u001b[0m                                      use_one_sided, method)\n\u001b[1;32m    525\u001b[0m         \u001b[0;32melse\u001b[0m\u001b[0;34m:\u001b[0m\u001b[0;34m\u001b[0m\u001b[0;34m\u001b[0m\u001b[0m\n",
            "\u001b[0;32m/usr/local/lib/python3.11/dist-packages/scipy/optimize/_numdiff.py\u001b[0m in \u001b[0;36m_dense_difference\u001b[0;34m(fun, x0, f0, h, use_one_sided, method)\u001b[0m\n\u001b[1;32m    594\u001b[0m             \u001b[0mx1\u001b[0m\u001b[0;34m[\u001b[0m\u001b[0mi\u001b[0m\u001b[0;34m]\u001b[0m \u001b[0;34m+=\u001b[0m \u001b[0mh\u001b[0m\u001b[0;34m[\u001b[0m\u001b[0mi\u001b[0m\u001b[0;34m]\u001b[0m\u001b[0;34m\u001b[0m\u001b[0;34m\u001b[0m\u001b[0m\n\u001b[1;32m    595\u001b[0m             \u001b[0mdx\u001b[0m \u001b[0;34m=\u001b[0m \u001b[0mx1\u001b[0m\u001b[0;34m[\u001b[0m\u001b[0mi\u001b[0m\u001b[0;34m]\u001b[0m \u001b[0;34m-\u001b[0m \u001b[0mx0\u001b[0m\u001b[0;34m[\u001b[0m\u001b[0mi\u001b[0m\u001b[0;34m]\u001b[0m  \u001b[0;31m# Recompute dx as exactly representable number.\u001b[0m\u001b[0;34m\u001b[0m\u001b[0;34m\u001b[0m\u001b[0m\n\u001b[0;32m--> 596\u001b[0;31m             \u001b[0mdf\u001b[0m \u001b[0;34m=\u001b[0m \u001b[0mfun\u001b[0m\u001b[0;34m(\u001b[0m\u001b[0mx1\u001b[0m\u001b[0;34m)\u001b[0m \u001b[0;34m-\u001b[0m \u001b[0mf0\u001b[0m\u001b[0;34m\u001b[0m\u001b[0;34m\u001b[0m\u001b[0m\n\u001b[0m\u001b[1;32m    597\u001b[0m         \u001b[0;32melif\u001b[0m \u001b[0mmethod\u001b[0m \u001b[0;34m==\u001b[0m \u001b[0;34m'3-point'\u001b[0m \u001b[0;32mand\u001b[0m \u001b[0muse_one_sided\u001b[0m\u001b[0;34m[\u001b[0m\u001b[0mi\u001b[0m\u001b[0;34m]\u001b[0m\u001b[0;34m:\u001b[0m\u001b[0;34m\u001b[0m\u001b[0;34m\u001b[0m\u001b[0m\n\u001b[1;32m    598\u001b[0m             \u001b[0mx1\u001b[0m\u001b[0;34m[\u001b[0m\u001b[0mi\u001b[0m\u001b[0;34m]\u001b[0m \u001b[0;34m+=\u001b[0m \u001b[0mh\u001b[0m\u001b[0;34m[\u001b[0m\u001b[0mi\u001b[0m\u001b[0;34m]\u001b[0m\u001b[0;34m\u001b[0m\u001b[0;34m\u001b[0m\u001b[0m\n",
            "\u001b[0;32m/usr/local/lib/python3.11/dist-packages/scipy/optimize/_numdiff.py\u001b[0m in \u001b[0;36mfun_wrapped\u001b[0;34m(x)\u001b[0m\n\u001b[1;32m    472\u001b[0m             \u001b[0mx\u001b[0m \u001b[0;34m=\u001b[0m \u001b[0mxp\u001b[0m\u001b[0;34m.\u001b[0m\u001b[0mastype\u001b[0m\u001b[0;34m(\u001b[0m\u001b[0mx\u001b[0m\u001b[0;34m,\u001b[0m \u001b[0mx0\u001b[0m\u001b[0;34m.\u001b[0m\u001b[0mdtype\u001b[0m\u001b[0;34m)\u001b[0m\u001b[0;34m\u001b[0m\u001b[0;34m\u001b[0m\u001b[0m\n\u001b[1;32m    473\u001b[0m \u001b[0;34m\u001b[0m\u001b[0m\n\u001b[0;32m--> 474\u001b[0;31m         \u001b[0mf\u001b[0m \u001b[0;34m=\u001b[0m \u001b[0mnp\u001b[0m\u001b[0;34m.\u001b[0m\u001b[0matleast_1d\u001b[0m\u001b[0;34m(\u001b[0m\u001b[0mfun\u001b[0m\u001b[0;34m(\u001b[0m\u001b[0mx\u001b[0m\u001b[0;34m,\u001b[0m \u001b[0;34m*\u001b[0m\u001b[0margs\u001b[0m\u001b[0;34m,\u001b[0m \u001b[0;34m**\u001b[0m\u001b[0mkwargs\u001b[0m\u001b[0;34m)\u001b[0m\u001b[0;34m)\u001b[0m\u001b[0;34m\u001b[0m\u001b[0;34m\u001b[0m\u001b[0m\n\u001b[0m\u001b[1;32m    475\u001b[0m         \u001b[0;32mif\u001b[0m \u001b[0mf\u001b[0m\u001b[0;34m.\u001b[0m\u001b[0mndim\u001b[0m \u001b[0;34m>\u001b[0m \u001b[0;36m1\u001b[0m\u001b[0;34m:\u001b[0m\u001b[0;34m\u001b[0m\u001b[0;34m\u001b[0m\u001b[0m\n\u001b[1;32m    476\u001b[0m             raise RuntimeError(\"`fun` return value has \"\n",
            "\u001b[0;32m/usr/local/lib/python3.11/dist-packages/scipy/optimize/_differentiable_functions.py\u001b[0m in \u001b[0;36mwrapped\u001b[0;34m(x)\u001b[0m\n\u001b[1;32m     19\u001b[0m         \u001b[0;31m# Overwriting results in undefined behaviour because\u001b[0m\u001b[0;34m\u001b[0m\u001b[0;34m\u001b[0m\u001b[0m\n\u001b[1;32m     20\u001b[0m         \u001b[0;31m# fun(self.x) will change self.x, with the two no longer linked.\u001b[0m\u001b[0;34m\u001b[0m\u001b[0;34m\u001b[0m\u001b[0m\n\u001b[0;32m---> 21\u001b[0;31m         \u001b[0mfx\u001b[0m \u001b[0;34m=\u001b[0m \u001b[0mfun\u001b[0m\u001b[0;34m(\u001b[0m\u001b[0mnp\u001b[0m\u001b[0;34m.\u001b[0m\u001b[0mcopy\u001b[0m\u001b[0;34m(\u001b[0m\u001b[0mx\u001b[0m\u001b[0;34m)\u001b[0m\u001b[0;34m,\u001b[0m \u001b[0;34m*\u001b[0m\u001b[0margs\u001b[0m\u001b[0;34m)\u001b[0m\u001b[0;34m\u001b[0m\u001b[0;34m\u001b[0m\u001b[0m\n\u001b[0m\u001b[1;32m     22\u001b[0m         \u001b[0;31m# Make sure the function returns a true scalar\u001b[0m\u001b[0;34m\u001b[0m\u001b[0;34m\u001b[0m\u001b[0m\n\u001b[1;32m     23\u001b[0m         \u001b[0;32mif\u001b[0m \u001b[0;32mnot\u001b[0m \u001b[0mnp\u001b[0m\u001b[0;34m.\u001b[0m\u001b[0misscalar\u001b[0m\u001b[0;34m(\u001b[0m\u001b[0mfx\u001b[0m\u001b[0;34m)\u001b[0m\u001b[0;34m:\u001b[0m\u001b[0;34m\u001b[0m\u001b[0;34m\u001b[0m\u001b[0m\n",
            "\u001b[0;32m/usr/local/lib/python3.11/dist-packages/statsmodels/base/model.py\u001b[0m in \u001b[0;36mf\u001b[0;34m(params, *args)\u001b[0m\n\u001b[1;32m    532\u001b[0m \u001b[0;34m\u001b[0m\u001b[0m\n\u001b[1;32m    533\u001b[0m         \u001b[0;32mdef\u001b[0m \u001b[0mf\u001b[0m\u001b[0;34m(\u001b[0m\u001b[0mparams\u001b[0m\u001b[0;34m,\u001b[0m \u001b[0;34m*\u001b[0m\u001b[0margs\u001b[0m\u001b[0;34m)\u001b[0m\u001b[0;34m:\u001b[0m\u001b[0;34m\u001b[0m\u001b[0;34m\u001b[0m\u001b[0m\n\u001b[0;32m--> 534\u001b[0;31m             \u001b[0;32mreturn\u001b[0m \u001b[0;34m-\u001b[0m\u001b[0mself\u001b[0m\u001b[0;34m.\u001b[0m\u001b[0mloglike\u001b[0m\u001b[0;34m(\u001b[0m\u001b[0mparams\u001b[0m\u001b[0;34m,\u001b[0m \u001b[0;34m*\u001b[0m\u001b[0margs\u001b[0m\u001b[0;34m)\u001b[0m \u001b[0;34m/\u001b[0m \u001b[0mnobs\u001b[0m\u001b[0;34m\u001b[0m\u001b[0;34m\u001b[0m\u001b[0m\n\u001b[0m\u001b[1;32m    535\u001b[0m \u001b[0;34m\u001b[0m\u001b[0m\n\u001b[1;32m    536\u001b[0m         \u001b[0;32mif\u001b[0m \u001b[0mmethod\u001b[0m \u001b[0;34m==\u001b[0m \u001b[0;34m'newton'\u001b[0m\u001b[0;34m:\u001b[0m\u001b[0;34m\u001b[0m\u001b[0;34m\u001b[0m\u001b[0m\n",
            "\u001b[0;32m/usr/local/lib/python3.11/dist-packages/statsmodels/tsa/statespace/mlemodel.py\u001b[0m in \u001b[0;36mloglike\u001b[0;34m(self, params, *args, **kwargs)\u001b[0m\n\u001b[1;32m    938\u001b[0m             \u001b[0mkwargs\u001b[0m\u001b[0;34m[\u001b[0m\u001b[0;34m'inversion_method'\u001b[0m\u001b[0;34m]\u001b[0m \u001b[0;34m=\u001b[0m \u001b[0mINVERT_UNIVARIATE\u001b[0m \u001b[0;34m|\u001b[0m \u001b[0mSOLVE_LU\u001b[0m\u001b[0;34m\u001b[0m\u001b[0;34m\u001b[0m\u001b[0m\n\u001b[1;32m    939\u001b[0m \u001b[0;34m\u001b[0m\u001b[0m\n\u001b[0;32m--> 940\u001b[0;31m         \u001b[0mloglike\u001b[0m \u001b[0;34m=\u001b[0m \u001b[0mself\u001b[0m\u001b[0;34m.\u001b[0m\u001b[0mssm\u001b[0m\u001b[0;34m.\u001b[0m\u001b[0mloglike\u001b[0m\u001b[0;34m(\u001b[0m\u001b[0mcomplex_step\u001b[0m\u001b[0;34m=\u001b[0m\u001b[0mcomplex_step\u001b[0m\u001b[0;34m,\u001b[0m \u001b[0;34m**\u001b[0m\u001b[0mkwargs\u001b[0m\u001b[0;34m)\u001b[0m\u001b[0;34m\u001b[0m\u001b[0;34m\u001b[0m\u001b[0m\n\u001b[0m\u001b[1;32m    941\u001b[0m \u001b[0;34m\u001b[0m\u001b[0m\n\u001b[1;32m    942\u001b[0m         \u001b[0;31m# Koopman, Shephard, and Doornik recommend maximizing the average\u001b[0m\u001b[0;34m\u001b[0m\u001b[0;34m\u001b[0m\u001b[0m\n",
            "\u001b[0;32m/usr/local/lib/python3.11/dist-packages/statsmodels/tsa/statespace/kalman_filter.py\u001b[0m in \u001b[0;36mloglike\u001b[0;34m(self, **kwargs)\u001b[0m\n\u001b[1;32m    999\u001b[0m         kwargs.setdefault('conserve_memory',\n\u001b[1;32m   1000\u001b[0m                           MEMORY_CONSERVE ^ MEMORY_NO_LIKELIHOOD)\n\u001b[0;32m-> 1001\u001b[0;31m         \u001b[0mkfilter\u001b[0m \u001b[0;34m=\u001b[0m \u001b[0mself\u001b[0m\u001b[0;34m.\u001b[0m\u001b[0m_filter\u001b[0m\u001b[0;34m(\u001b[0m\u001b[0;34m**\u001b[0m\u001b[0mkwargs\u001b[0m\u001b[0;34m)\u001b[0m\u001b[0;34m\u001b[0m\u001b[0;34m\u001b[0m\u001b[0m\n\u001b[0m\u001b[1;32m   1002\u001b[0m         loglikelihood_burn = kwargs.get('loglikelihood_burn',\n\u001b[1;32m   1003\u001b[0m                                         self.loglikelihood_burn)\n",
            "\u001b[0;32m/usr/local/lib/python3.11/dist-packages/statsmodels/tsa/statespace/kalman_filter.py\u001b[0m in \u001b[0;36m_filter\u001b[0;34m(self, filter_method, inversion_method, stability_method, conserve_memory, filter_timing, tolerance, loglikelihood_burn, complex_step)\u001b[0m\n\u001b[1;32m    922\u001b[0m \u001b[0;34m\u001b[0m\u001b[0m\n\u001b[1;32m    923\u001b[0m         \u001b[0;31m# Run the filter\u001b[0m\u001b[0;34m\u001b[0m\u001b[0;34m\u001b[0m\u001b[0m\n\u001b[0;32m--> 924\u001b[0;31m         \u001b[0mkfilter\u001b[0m\u001b[0;34m(\u001b[0m\u001b[0;34m)\u001b[0m\u001b[0;34m\u001b[0m\u001b[0;34m\u001b[0m\u001b[0m\n\u001b[0m\u001b[1;32m    925\u001b[0m \u001b[0;34m\u001b[0m\u001b[0m\n\u001b[1;32m    926\u001b[0m         \u001b[0;32mreturn\u001b[0m \u001b[0mkfilter\u001b[0m\u001b[0;34m\u001b[0m\u001b[0;34m\u001b[0m\u001b[0m\n",
            "\u001b[0;31mKeyboardInterrupt\u001b[0m: "
          ]
        }
      ]
    },
    {
      "cell_type": "code",
      "source": [
        "print(model_fit.summary())"
      ],
      "metadata": {
        "colab": {
          "base_uri": "https://localhost:8080/",
          "height": 148
        },
        "id": "pvTiQ452NebG",
        "outputId": "41f7c15e-ab51-4d25-ed98-b167f8d1e203"
      },
      "execution_count": null,
      "outputs": [
        {
          "output_type": "error",
          "ename": "NameError",
          "evalue": "name 'model_fit' is not defined",
          "traceback": [
            "\u001b[0;31m---------------------------------------------------------------------------\u001b[0m",
            "\u001b[0;31mNameError\u001b[0m                                 Traceback (most recent call last)",
            "\u001b[0;32m/tmp/ipython-input-28-4201170220.py\u001b[0m in \u001b[0;36m<cell line: 0>\u001b[0;34m()\u001b[0m\n\u001b[0;32m----> 1\u001b[0;31m \u001b[0mprint\u001b[0m\u001b[0;34m(\u001b[0m\u001b[0mmodel_fit\u001b[0m\u001b[0;34m.\u001b[0m\u001b[0msummary\u001b[0m\u001b[0;34m(\u001b[0m\u001b[0;34m)\u001b[0m\u001b[0;34m)\u001b[0m\u001b[0;34m\u001b[0m\u001b[0;34m\u001b[0m\u001b[0m\n\u001b[0m",
            "\u001b[0;31mNameError\u001b[0m: name 'model_fit' is not defined"
          ]
        }
      ]
    },
    {
      "cell_type": "code",
      "source": [
        "exog_vars_val = sd_val_df[exog_vars_list]\n",
        "predictions = model_fit.forecast(len(sd_val_df), exog=exog_vars_val)\n",
        "predictions = pd.Series(predictions, index=sd_val_df.index)\n",
        "residuals = sd_val_df['Weekly_Sales'].values - predictions.values\n",
        "residuals = pd.Series(residuals, index=sd_val_df.index)"
      ],
      "metadata": {
        "id": "Umw7Qmm_TQIW",
        "colab": {
          "base_uri": "https://localhost:8080/",
          "height": 222
        },
        "outputId": "e277f10b-eed3-46b8-9202-6cbb1b8cdefb"
      },
      "execution_count": null,
      "outputs": [
        {
          "output_type": "error",
          "ename": "NameError",
          "evalue": "name 'model_fit' is not defined",
          "traceback": [
            "\u001b[0;31m---------------------------------------------------------------------------\u001b[0m",
            "\u001b[0;31mNameError\u001b[0m                                 Traceback (most recent call last)",
            "\u001b[0;32m/tmp/ipython-input-38-1758658605.py\u001b[0m in \u001b[0;36m<cell line: 0>\u001b[0;34m()\u001b[0m\n\u001b[1;32m      1\u001b[0m \u001b[0mexog_vars_val\u001b[0m \u001b[0;34m=\u001b[0m \u001b[0msd_val_df\u001b[0m\u001b[0;34m[\u001b[0m\u001b[0mexog_vars_list\u001b[0m\u001b[0;34m]\u001b[0m\u001b[0;34m\u001b[0m\u001b[0;34m\u001b[0m\u001b[0m\n\u001b[0;32m----> 2\u001b[0;31m \u001b[0mpredictions\u001b[0m \u001b[0;34m=\u001b[0m \u001b[0mmodel_fit\u001b[0m\u001b[0;34m.\u001b[0m\u001b[0mforecast\u001b[0m\u001b[0;34m(\u001b[0m\u001b[0mlen\u001b[0m\u001b[0;34m(\u001b[0m\u001b[0msd_val_df\u001b[0m\u001b[0;34m)\u001b[0m\u001b[0;34m,\u001b[0m \u001b[0mexog\u001b[0m\u001b[0;34m=\u001b[0m\u001b[0mexog_vars_val\u001b[0m\u001b[0;34m)\u001b[0m\u001b[0;34m\u001b[0m\u001b[0;34m\u001b[0m\u001b[0m\n\u001b[0m\u001b[1;32m      3\u001b[0m \u001b[0mpredictions\u001b[0m \u001b[0;34m=\u001b[0m \u001b[0mpd\u001b[0m\u001b[0;34m.\u001b[0m\u001b[0mSeries\u001b[0m\u001b[0;34m(\u001b[0m\u001b[0mpredictions\u001b[0m\u001b[0;34m,\u001b[0m \u001b[0mindex\u001b[0m\u001b[0;34m=\u001b[0m\u001b[0msd_val_df\u001b[0m\u001b[0;34m.\u001b[0m\u001b[0mindex\u001b[0m\u001b[0;34m)\u001b[0m\u001b[0;34m\u001b[0m\u001b[0;34m\u001b[0m\u001b[0m\n\u001b[1;32m      4\u001b[0m \u001b[0mresiduals\u001b[0m \u001b[0;34m=\u001b[0m \u001b[0msd_val_df\u001b[0m\u001b[0;34m[\u001b[0m\u001b[0;34m'Weekly_Sales'\u001b[0m\u001b[0;34m]\u001b[0m\u001b[0;34m.\u001b[0m\u001b[0mvalues\u001b[0m \u001b[0;34m-\u001b[0m \u001b[0mpredictions\u001b[0m\u001b[0;34m.\u001b[0m\u001b[0mvalues\u001b[0m\u001b[0;34m\u001b[0m\u001b[0;34m\u001b[0m\u001b[0m\n\u001b[1;32m      5\u001b[0m \u001b[0mresiduals\u001b[0m \u001b[0;34m=\u001b[0m \u001b[0mpd\u001b[0m\u001b[0;34m.\u001b[0m\u001b[0mSeries\u001b[0m\u001b[0;34m(\u001b[0m\u001b[0mresiduals\u001b[0m\u001b[0;34m,\u001b[0m \u001b[0mindex\u001b[0m\u001b[0;34m=\u001b[0m\u001b[0msd_val_df\u001b[0m\u001b[0;34m.\u001b[0m\u001b[0mindex\u001b[0m\u001b[0;34m)\u001b[0m\u001b[0;34m\u001b[0m\u001b[0;34m\u001b[0m\u001b[0m\n",
            "\u001b[0;31mNameError\u001b[0m: name 'model_fit' is not defined"
          ]
        }
      ]
    },
    {
      "cell_type": "code",
      "source": [
        "plt.figure(figsize=(10,4))\n",
        "plt.plot(residuals)\n",
        "plt.axhline(0, linestyle='--', color='k')\n",
        "plt.title('Residuals from SARIMA Model', fontsize=20)\n",
        "plt.ylabel('Error', fontsize=16)\n",
        "plt.savefig(f'residuals_from_sarima_{store_id}_{dept_id}.png')"
      ],
      "metadata": {
        "id": "X8pm6T_lTX79",
        "colab": {
          "base_uri": "https://localhost:8080/",
          "height": 399
        },
        "outputId": "e528eaad-d063-4e47-ac56-9d47c67a0baf"
      },
      "execution_count": null,
      "outputs": [
        {
          "output_type": "display_data",
          "data": {
            "text/plain": [
              "<Figure size 1000x400 with 1 Axes>"
            ],
            "image/png": "[encoded data removed]"
          },
          "metadata": {}
        }
      ]
    },
    {
      "cell_type": "code",
      "source": [
        "plt.figure(figsize=(10,4))\n",
        "\n",
        "plt.plot(sd_val_df['Weekly_Sales'])\n",
        "plt.plot(predictions)\n",
        "\n",
        "plt.legend(('Data', 'Predictions'))\n",
        "\n",
        "plt.title(f'Weekly Sales Over Time: store {store_id} | dept {dept_id}')\n",
        "plt.ylabel('Weekly Sales')\n",
        "plt.savefig(f'weekly_sales_over_time_{store_id}_{dept_id}.png')"
      ],
      "metadata": {
        "colab": {
          "base_uri": "https://localhost:8080/",
          "height": 391
        },
        "id": "Wf-r-vLXqmhR",
        "outputId": "2430281c-6cd1-41f7-81a3-c6fea98dd1db"
      },
      "execution_count": null,
      "outputs": [
        {
          "output_type": "display_data",
          "data": {
            "text/plain": [
              "<Figure size 1000x400 with 1 Axes>"
            ],
            "image/png": "[encoded data removed]"
          },
          "metadata": {}
        }
      ]
    },
    {
      "cell_type": "markdown",
      "source": [
        "# Grid Search"
      ],
      "metadata": {
        "id": "mRRtPcncGpmj"
      }
    },
    {
      "cell_type": "code",
      "source": [
        "import itertools\n",
        "from sklearn.metrics import mean_squared_error\n",
        "\n",
        "def sarimax_grid_search(y, exog, p, d, q, P, D, Q, S, store_id, dept_id):\n",
        "    best_wmae = float('inf')\n",
        "    best_order = None\n",
        "    best_seasonal_order = None\n",
        "    best_model = None\n",
        "\n",
        "    # Generate all possible combinations of p, d, q\n",
        "    pdq = list(itertools.product(p, d, q))\n",
        "    # Generate all possible combinations of P, D, Q\n",
        "    seasonal_pdq = [(x[0], x[1], x[2], S) for x in list(itertools.product(P, D, Q))]\n",
        "\n",
        "    print('Running Grid Search...')\n",
        "\n",
        "    for param in pdq:\n",
        "        for param_seasonal in seasonal_pdq:\n",
        "            try:\n",
        "                model = SARIMAX(y,\n",
        "                                exog=exog,\n",
        "                                order=param,\n",
        "                                seasonal_order=param_seasonal,\n",
        "                                enforce_stationarity=False,\n",
        "                                enforce_invertibility=False)\n",
        "                model_fit = model.fit(disp=False) # disp=False to suppress convergence output\n",
        "\n",
        "                # Make predictions on the validation set\n",
        "                exog_val = sd_val_df[exog_vars_list] # Use the preprocessed validation exogenous variables\n",
        "                predictions = model_fit.forecast(steps=len(sd_val_df), exog=exog_val)\n",
        "\n",
        "                # Ensure predictions are positive if weekly sales should be positive\n",
        "                predictions[predictions < 0] = 0\n",
        "\n",
        "                # Evaluate the model using WMAE\n",
        "                wmae = WMAE(sd_val_df, sd_val_df['Weekly_Sales'], predictions)\n",
        "\n",
        "                # Print the WMAE\n",
        "                print(f'SARIMAX({param})x({param_seasonal}) - WMAE: {wmae:.3f}')\n",
        "\n",
        "                if wmae < best_wmae:\n",
        "                    best_wmae = wmae\n",
        "                    best_order = param\n",
        "                    best_seasonal_order = param_seasonal\n",
        "                    best_model = model_fit\n",
        "\n",
        "            except Exception as e:\n",
        "                print(f'Could not fit SARIMAX({param})x({param_seasonal}): {e}')\n",
        "                continue\n",
        "\n",
        "    print('\\nBest SARIMAX Model:')\n",
        "    print(f'Order: {best_order}')\n",
        "    print(f'Seasonal Order: {best_seasonal_order}')\n",
        "    print(f'Validation WMAE: {best_wmae:.3f}')\n",
        "\n",
        "    return best_order, best_seasonal_order, best_wmae, best_model"
      ],
      "metadata": {
        "id": "EYw-OpKNGrZW"
      },
      "execution_count": null,
      "outputs": []
    },
    {
      "cell_type": "code",
      "source": [
        "# Define parameter ranges for grid search\n",
        "p = range(0, 3) # p values for the non-seasonal part\n",
        "d = range(0, 2) # d values for the non-seasonal differencing\n",
        "q = range(0, 3) # q values for the non-seasonal part\n",
        "P = range(0, 3) # P values for the seasonal part\n",
        "D = range(0, 2) # D values for the seasonal differencing\n",
        "Q = range(0, 3) # Q values for the seasonal part\n",
        "S = 52        # Seasonal period (51 weeks in a year)\n",
        "\n",
        "# Select the time series data and exogenous variables for training\n",
        "y_train = sd_train_df['Weekly_Sales']\n",
        "exog_train = sd_train_df[exog_vars_list]\n",
        "\n",
        "# Run the grid search\n",
        "best_order, best_seasonal_order, best_wmae, best_model = sarimax_grid_search(\n",
        "    y_train,\n",
        "    exog_train,\n",
        "    p, d, q,\n",
        "    P, D, Q, S,\n",
        "    store_id,\n",
        "    dept_id\n",
        ")"
      ],
      "metadata": {
        "id": "QPpspMbyHEQG",
        "colab": {
          "base_uri": "https://localhost:8080/"
        },
        "outputId": "da7bbb3b-6516-4a8a-b36b-ef54d673dc9d"
      },
      "execution_count": null,
      "outputs": [
        {
          "output_type": "stream",
          "name": "stdout",
          "text": [
            "Running Grid Search...\n",
            "SARIMAX((0, 0, 0))x((0, 0, 0, 52)) - WMAE: 11782.130\n",
            "SARIMAX((0, 0, 0))x((0, 0, 1, 52)) - WMAE: 8805.343\n",
            "SARIMAX((0, 0, 0))x((0, 0, 2, 52)) - WMAE: 11767.754\n",
            "SARIMAX((0, 0, 0))x((0, 1, 0, 52)) - WMAE: 17466.157\n",
            "SARIMAX((0, 0, 0))x((0, 1, 1, 52)) - WMAE: 6068.560\n",
            "SARIMAX((0, 0, 0))x((0, 1, 2, 52)) - WMAE: 6068.560\n",
            "SARIMAX((0, 0, 0))x((1, 0, 0, 52)) - WMAE: 5478.621\n",
            "SARIMAX((0, 0, 0))x((1, 0, 1, 52)) - WMAE: 5104.017\n",
            "SARIMAX((0, 0, 0))x((1, 0, 2, 52)) - WMAE: 11767.754\n",
            "SARIMAX((0, 0, 0))x((1, 1, 0, 52)) - WMAE: 6068.560\n",
            "SARIMAX((0, 0, 0))x((1, 1, 1, 52)) - WMAE: 6068.560\n",
            "SARIMAX((0, 0, 0))x((1, 1, 2, 52)) - WMAE: 6068.560\n",
            "SARIMAX((0, 0, 0))x((2, 0, 0, 52)) - WMAE: 11767.754\n",
            "SARIMAX((0, 0, 0))x((2, 0, 1, 52)) - WMAE: 11767.754\n",
            "SARIMAX((0, 0, 0))x((2, 0, 2, 52)) - WMAE: 11767.754\n",
            "SARIMAX((0, 0, 0))x((2, 1, 0, 52)) - WMAE: 6068.560\n",
            "SARIMAX((0, 0, 0))x((2, 1, 1, 52)) - WMAE: 6068.560\n",
            "SARIMAX((0, 0, 0))x((2, 1, 2, 52)) - WMAE: 6068.560\n",
            "SARIMAX((0, 0, 1))x((0, 0, 0, 52)) - WMAE: 10200.641\n",
            "SARIMAX((0, 0, 1))x((0, 0, 1, 52)) - WMAE: 36697.974\n",
            "SARIMAX((0, 0, 1))x((0, 0, 2, 52)) - WMAE: 11724.682\n",
            "SARIMAX((0, 0, 1))x((0, 1, 0, 52)) - WMAE: 6704.306\n",
            "SARIMAX((0, 0, 1))x((0, 1, 1, 52)) - WMAE: 6042.080\n",
            "SARIMAX((0, 0, 1))x((0, 1, 2, 52)) - WMAE: 6044.000\n",
            "SARIMAX((0, 0, 1))x((1, 0, 0, 52)) - WMAE: 5682.319\n",
            "SARIMAX((0, 0, 1))x((1, 0, 1, 52)) - WMAE: 5668.586\n",
            "SARIMAX((0, 0, 1))x((1, 0, 2, 52)) - WMAE: 11724.682\n",
            "SARIMAX((0, 0, 1))x((1, 1, 0, 52)) - WMAE: 6042.080\n",
            "SARIMAX((0, 0, 1))x((1, 1, 1, 52)) - WMAE: 6042.080\n",
            "SARIMAX((0, 0, 1))x((1, 1, 2, 52)) - WMAE: 6044.000\n",
            "SARIMAX((0, 0, 1))x((2, 0, 0, 52)) - WMAE: 11724.682\n",
            "SARIMAX((0, 0, 1))x((2, 0, 1, 52)) - WMAE: 11724.682\n",
            "SARIMAX((0, 0, 1))x((2, 0, 2, 52)) - WMAE: 11724.682\n",
            "SARIMAX((0, 0, 1))x((2, 1, 0, 52)) - WMAE: 6044.000\n",
            "SARIMAX((0, 0, 1))x((2, 1, 1, 52)) - WMAE: 6044.000\n",
            "SARIMAX((0, 0, 1))x((2, 1, 2, 52)) - WMAE: 6044.000\n",
            "SARIMAX((0, 0, 2))x((0, 0, 0, 52)) - WMAE: 10166.372\n",
            "SARIMAX((0, 0, 2))x((0, 0, 1, 52)) - WMAE: 112264.787\n",
            "SARIMAX((0, 0, 2))x((0, 0, 2, 52)) - WMAE: 11765.378\n",
            "SARIMAX((0, 0, 2))x((0, 1, 0, 52)) - WMAE: 6921.041\n",
            "SARIMAX((0, 0, 2))x((0, 1, 1, 52)) - WMAE: 6101.861\n",
            "SARIMAX((0, 0, 2))x((0, 1, 2, 52)) - WMAE: 6099.814\n",
            "SARIMAX((0, 0, 2))x((1, 0, 0, 52)) - WMAE: 5779.380\n",
            "SARIMAX((0, 0, 2))x((1, 0, 1, 52)) - WMAE: 6320.998\n",
            "SARIMAX((0, 0, 2))x((1, 0, 2, 52)) - WMAE: 11765.378\n",
            "SARIMAX((0, 0, 2))x((1, 1, 0, 52)) - WMAE: 6101.861\n",
            "SARIMAX((0, 0, 2))x((1, 1, 1, 52)) - WMAE: 6101.861\n",
            "SARIMAX((0, 0, 2))x((1, 1, 2, 52)) - WMAE: 6099.814\n",
            "SARIMAX((0, 0, 2))x((2, 0, 0, 52)) - WMAE: 11765.378\n",
            "SARIMAX((0, 0, 2))x((2, 0, 1, 52)) - WMAE: 11765.378\n",
            "SARIMAX((0, 0, 2))x((2, 0, 2, 52)) - WMAE: 11765.378\n",
            "SARIMAX((0, 0, 2))x((2, 1, 0, 52)) - WMAE: 6099.814\n",
            "SARIMAX((0, 0, 2))x((2, 1, 1, 52)) - WMAE: 6099.814\n",
            "SARIMAX((0, 0, 2))x((2, 1, 2, 52)) - WMAE: 6099.814\n",
            "SARIMAX((0, 1, 0))x((0, 0, 0, 52)) - WMAE: 15021.732\n",
            "SARIMAX((0, 1, 0))x((0, 0, 1, 52)) - WMAE: 22950.893\n",
            "SARIMAX((0, 1, 0))x((0, 0, 2, 52)) - WMAE: 15477.228\n",
            "SARIMAX((0, 1, 0))x((0, 1, 0, 52)) - WMAE: 13757.022\n",
            "SARIMAX((0, 1, 0))x((0, 1, 1, 52)) - WMAE: 10609.511\n",
            "SARIMAX((0, 1, 0))x((0, 1, 2, 52)) - WMAE: 10609.511\n",
            "SARIMAX((0, 1, 0))x((1, 0, 0, 52)) - WMAE: 6820.367\n",
            "SARIMAX((0, 1, 0))x((1, 0, 1, 52)) - WMAE: 6635.594\n",
            "SARIMAX((0, 1, 0))x((1, 0, 2, 52)) - WMAE: 15477.228\n",
            "SARIMAX((0, 1, 0))x((1, 1, 0, 52)) - WMAE: 10609.511\n",
            "SARIMAX((0, 1, 0))x((1, 1, 1, 52)) - WMAE: 10609.511\n",
            "SARIMAX((0, 1, 0))x((1, 1, 2, 52)) - WMAE: 10609.511\n",
            "SARIMAX((0, 1, 0))x((2, 0, 0, 52)) - WMAE: 15477.228\n",
            "SARIMAX((0, 1, 0))x((2, 0, 1, 52)) - WMAE: 15477.228\n",
            "SARIMAX((0, 1, 0))x((2, 0, 2, 52)) - WMAE: 15477.228\n",
            "SARIMAX((0, 1, 0))x((2, 1, 0, 52)) - WMAE: 10609.511\n",
            "SARIMAX((0, 1, 0))x((2, 1, 1, 52)) - WMAE: 10609.511\n",
            "SARIMAX((0, 1, 0))x((2, 1, 2, 52)) - WMAE: 10609.511\n",
            "SARIMAX((0, 1, 1))x((0, 0, 0, 52)) - WMAE: 13407.730\n",
            "SARIMAX((0, 1, 1))x((0, 0, 1, 52)) - WMAE: 23051.128\n",
            "SARIMAX((0, 1, 1))x((0, 0, 2, 52)) - WMAE: 13948.869\n",
            "SARIMAX((0, 1, 1))x((0, 1, 0, 52)) - WMAE: 7001.453\n",
            "SARIMAX((0, 1, 1))x((0, 1, 1, 52)) - WMAE: 9420.246\n",
            "SARIMAX((0, 1, 1))x((0, 1, 2, 52)) - WMAE: 9482.112\n",
            "SARIMAX((0, 1, 1))x((1, 0, 0, 52)) - WMAE: 6772.538\n",
            "SARIMAX((0, 1, 1))x((1, 0, 1, 52)) - WMAE: 188240.558\n",
            "SARIMAX((0, 1, 1))x((1, 0, 2, 52)) - WMAE: 13948.869\n",
            "SARIMAX((0, 1, 1))x((1, 1, 0, 52)) - WMAE: 9420.246\n",
            "SARIMAX((0, 1, 1))x((1, 1, 1, 52)) - WMAE: 9420.246\n",
            "SARIMAX((0, 1, 1))x((1, 1, 2, 52)) - WMAE: 9482.112\n",
            "SARIMAX((0, 1, 1))x((2, 0, 0, 52)) - WMAE: 13948.869\n",
            "SARIMAX((0, 1, 1))x((2, 0, 1, 52)) - WMAE: 13948.869\n",
            "SARIMAX((0, 1, 1))x((2, 0, 2, 52)) - WMAE: 13948.869\n",
            "SARIMAX((0, 1, 1))x((2, 1, 0, 52)) - WMAE: 9482.112\n",
            "SARIMAX((0, 1, 1))x((2, 1, 1, 52)) - WMAE: 9482.112\n",
            "SARIMAX((0, 1, 1))x((2, 1, 2, 52)) - WMAE: 9482.112\n",
            "SARIMAX((0, 1, 2))x((0, 0, 0, 52)) - WMAE: 12439.100\n",
            "SARIMAX((0, 1, 2))x((0, 0, 1, 52)) - WMAE: 24781.593\n",
            "SARIMAX((0, 1, 2))x((0, 0, 2, 52)) - WMAE: 12216.921\n",
            "SARIMAX((0, 1, 2))x((0, 1, 0, 52)) - WMAE: 8970.201\n",
            "SARIMAX((0, 1, 2))x((0, 1, 1, 52)) - WMAE: 7189.861\n",
            "SARIMAX((0, 1, 2))x((0, 1, 2, 52)) - WMAE: 7300.123\n",
            "SARIMAX((0, 1, 2))x((1, 0, 0, 52)) - WMAE: 14262.363\n",
            "SARIMAX((0, 1, 2))x((1, 0, 1, 52)) - WMAE: 11945.861\n",
            "SARIMAX((0, 1, 2))x((1, 0, 2, 52)) - WMAE: 12216.921\n",
            "SARIMAX((0, 1, 2))x((1, 1, 0, 52)) - WMAE: 7189.869\n",
            "SARIMAX((0, 1, 2))x((1, 1, 1, 52)) - WMAE: 7189.861\n",
            "SARIMAX((0, 1, 2))x((1, 1, 2, 52)) - WMAE: 7300.123\n",
            "SARIMAX((0, 1, 2))x((2, 0, 0, 52)) - WMAE: 12216.921\n",
            "SARIMAX((0, 1, 2))x((2, 0, 1, 52)) - WMAE: 12216.921\n",
            "SARIMAX((0, 1, 2))x((2, 0, 2, 52)) - WMAE: 12216.921\n",
            "SARIMAX((0, 1, 2))x((2, 1, 0, 52)) - WMAE: 7300.123\n",
            "SARIMAX((0, 1, 2))x((2, 1, 1, 52)) - WMAE: 7300.123\n",
            "SARIMAX((0, 1, 2))x((2, 1, 2, 52)) - WMAE: 7300.123\n",
            "SARIMAX((1, 0, 0))x((0, 0, 0, 52)) - WMAE: 10054.565\n"
          ]
        }
      ]
    },
    {
      "cell_type": "code",
      "source": [
        "exog_vars_val = sd_val_df[exog_vars_list]\n",
        "predictions = best_model.forecast(len(sd_val_df), exog=exog_vars_val)\n",
        "predictions = pd.Series(predictions, index=sd_val_df.index)\n",
        "residuals = sd_val_df['Weekly_Sales'].values - predictions.values\n",
        "residuals = pd.Series(residuals, index=sd_val_df.index)"
      ],
      "metadata": {
        "id": "22h1oN8wRTLs"
      },
      "execution_count": null,
      "outputs": []
    },
    {
      "cell_type": "markdown",
      "source": [
        "# Start MLFlow"
      ],
      "metadata": {
        "id": "Sc0xG0ImSTJQ"
      }
    },
    {
      "cell_type": "code",
      "source": [
        "!pip install dagshub mlflow -Uq"
      ],
      "metadata": {
        "colab": {
          "base_uri": "https://localhost:8080/"
        },
        "id": "GsakgUg1U1l2",
        "outputId": "22fd92fa-8bc4-48ce-aba8-579a9b8ccf1b"
      },
      "execution_count": null,
      "outputs": [
        {
          "output_type": "stream",
          "name": "stdout",
          "text": [
            "\u001b[2K   \u001b[90m━━━━━━━━━━━━━━━━━━━━━━━━━━━━━━━━━━━━━━━━\u001b[0m \u001b[32m261.0/261.0 kB\u001b[0m \u001b[31m20.7 MB/s\u001b[0m eta \u001b[36m0:00:00\u001b[0m\n",
            "\u001b[2K   \u001b[90m━━━━━━━━━━━━━━━━━━━━━━━━━━━━━━━━━━━━━━━━\u001b[0m \u001b[32m24.7/24.7 MB\u001b[0m \u001b[31m81.1 MB/s\u001b[0m eta \u001b[36m0:00:00\u001b[0m\n",
            "\u001b[2K   \u001b[90m━━━━━━━━━━━━━━━━━━━━━━━━━━━━━━━━━━━━━━━━\u001b[0m \u001b[32m1.9/1.9 MB\u001b[0m \u001b[31m77.1 MB/s\u001b[0m eta \u001b[36m0:00:00\u001b[0m\n",
            "\u001b[2K   \u001b[90m━━━━━━━━━━━━━━━━━━━━━━━━━━━━━━━━━━━━━━━━\u001b[0m \u001b[32m242.7/242.7 kB\u001b[0m \u001b[31m17.8 MB/s\u001b[0m eta \u001b[36m0:00:00\u001b[0m\n",
            "\u001b[2K   \u001b[90m━━━━━━━━━━━━━━━━━━━━━━━━━━━━━━━━━━━━━━━━\u001b[0m \u001b[32m147.8/147.8 kB\u001b[0m \u001b[31m12.4 MB/s\u001b[0m eta \u001b[36m0:00:00\u001b[0m\n",
            "\u001b[2K   \u001b[90m━━━━━━━━━━━━━━━━━━━━━━━━━━━━━━━━━━━━━━━━\u001b[0m \u001b[32m114.9/114.9 kB\u001b[0m \u001b[31m9.8 MB/s\u001b[0m eta \u001b[36m0:00:00\u001b[0m\n",
            "\u001b[2K   \u001b[90m━━━━━━━━━━━━━━━━━━━━━━━━━━━━━━━━━━━━━━━━\u001b[0m \u001b[32m85.0/85.0 kB\u001b[0m \u001b[31m6.5 MB/s\u001b[0m eta \u001b[36m0:00:00\u001b[0m\n",
            "\u001b[2K   \u001b[90m━━━━━━━━━━━━━━━━━━━━━━━━━━━━━━━━━━━━━━━━\u001b[0m \u001b[32m139.9/139.9 kB\u001b[0m \u001b[31m11.4 MB/s\u001b[0m eta \u001b[36m0:00:00\u001b[0m\n",
            "\u001b[2K   \u001b[90m━━━━━━━━━━━━━━━━━━━━━━━━━━━━━━━━━━━━━━━━\u001b[0m \u001b[32m13.7/13.7 MB\u001b[0m \u001b[31m71.7 MB/s\u001b[0m eta \u001b[36m0:00:00\u001b[0m\n",
            "\u001b[2K   \u001b[90m━━━━━━━━━━━━━━━━━━━━━━━━━━━━━━━━━━━━━━━━\u001b[0m \u001b[32m733.8/733.8 kB\u001b[0m \u001b[31m39.9 MB/s\u001b[0m eta \u001b[36m0:00:00\u001b[0m\n",
            "\u001b[2K   \u001b[90m━━━━━━━━━━━━━━━━━━━━━━━━━━━━━━━━━━━━━━━━\u001b[0m \u001b[32m203.4/203.4 kB\u001b[0m \u001b[31m18.6 MB/s\u001b[0m eta \u001b[36m0:00:00\u001b[0m\n",
            "\u001b[2K   \u001b[90m━━━━━━━━━━━━━━━━━━━━━━━━━━━━━━━━━━━━━━━━\u001b[0m \u001b[32m50.9/50.9 kB\u001b[0m \u001b[31m4.1 MB/s\u001b[0m eta \u001b[36m0:00:00\u001b[0m\n",
            "\u001b[2K   \u001b[90m━━━━━━━━━━━━━━━━━━━━━━━━━━━━━━━━━━━━━━━━\u001b[0m \u001b[32m65.8/65.8 kB\u001b[0m \u001b[31m5.7 MB/s\u001b[0m eta \u001b[36m0:00:00\u001b[0m\n",
            "\u001b[2K   \u001b[90m━━━━━━━━━━━━━━━━━━━━━━━━━━━━━━━━━━━━━━━━\u001b[0m \u001b[32m118.5/118.5 kB\u001b[0m \u001b[31m11.5 MB/s\u001b[0m eta \u001b[36m0:00:00\u001b[0m\n",
            "\u001b[2K   \u001b[90m━━━━━━━━━━━━━━━━━━━━━━━━━━━━━━━━━━━━━━━━\u001b[0m \u001b[32m196.2/196.2 kB\u001b[0m \u001b[31m12.3 MB/s\u001b[0m eta \u001b[36m0:00:00\u001b[0m\n",
            "\u001b[2K   \u001b[90m━━━━━━━━━━━━━━━━━━━━━━━━━━━━━━━━━━━━━━━━\u001b[0m \u001b[32m85.2/85.2 kB\u001b[0m \u001b[31m8.3 MB/s\u001b[0m eta \u001b[36m0:00:00\u001b[0m\n",
            "\u001b[2K   \u001b[90m━━━━━━━━━━━━━━━━━━━━━━━━━━━━━━━━━━━━━━━━\u001b[0m \u001b[32m74.3/74.3 kB\u001b[0m \u001b[31m6.0 MB/s\u001b[0m eta \u001b[36m0:00:00\u001b[0m\n",
            "\u001b[?25h"
          ]
        }
      ]
    },
    {
      "cell_type": "code",
      "source": [
        "import dagshub\n",
        "import mlflow\n",
        "from mlflow.models.signature import infer_signature\n",
        "dagshub.init(repo_owner='Cimbir', repo_name='Store-Sales-Forecasting', mlflow=True)"
      ],
      "metadata": {
        "colab": {
          "base_uri": "https://localhost:8080/",
          "height": 214,
          "referenced_widgets": [
            "53ca6e02c67e49efab92d898a19a8a87",
            "a1ac2ac5809e4a6bb846f6b503bfcb74"
          ]
        },
        "id": "oRxME_vFSlT7",
        "outputId": "b8e8acd2-4c87-43fd-8366-a1b789b866d7"
      },
      "execution_count": null,
      "outputs": [
        {
          "output_type": "display_data",
          "data": {
            "text/plain": [
              "                                       \u001b[1m❗❗❗ AUTHORIZATION REQUIRED ❗❗❗\u001b[0m                                        \n"
            ],
            "text/html": [
              "<pre style=\"white-space:pre;overflow-x:auto;line-height:normal;font-family:Menlo,'DejaVu Sans Mono',consolas,'Courier New',monospace\">                                       <span style=\"font-weight: bold\">❗❗❗ AUTHORIZATION REQUIRED ❗❗❗</span>                                        \n",
              "</pre>\n"
            ]
          },
          "metadata": {}
        },
        {
          "output_type": "display_data",
          "data": {
            "text/plain": [
              "Output()"
            ],
            "application/vnd.jupyter.widget-view+json": {
              "version_major": 2,
              "version_minor": 0,
              "model_id": "53ca6e02c67e49efab92d898a19a8a87"
            }
          },
          "metadata": {}
        },
        {
          "output_type": "stream",
          "name": "stdout",
          "text": [
            "\n",
            "\n",
            "Open the following link in your browser to authorize the client:\n",
            "https://dagshub.com/login/oauth/authorize?state=4c093bef-0a12-4930-8c4e-90bfbe736475&client_id=32b60ba385aa7cecf24046d8195a71c07dd345d9657977863b52e7748e0f0f28&middleman_request_id=fd1b0f3286ab083dde56113764774049b0851bdb814f232a8a8edb1fb4d77aa7\n",
            "\n",
            "\n"
          ]
        },
        {
          "output_type": "display_data",
          "data": {
            "text/plain": [],
            "text/html": [
              "<pre style=\"white-space:pre;overflow-x:auto;line-height:normal;font-family:Menlo,'DejaVu Sans Mono',consolas,'Courier New',monospace\"></pre>\n"
            ]
          },
          "metadata": {}
        },
        {
          "output_type": "display_data",
          "data": {
            "text/plain": [
              "Accessing as Cimbir\n"
            ],
            "text/html": [
              "<pre style=\"white-space:pre;overflow-x:auto;line-height:normal;font-family:Menlo,'DejaVu Sans Mono',consolas,'Courier New',monospace\">Accessing as Cimbir\n",
              "</pre>\n"
            ]
          },
          "metadata": {}
        },
        {
          "output_type": "display_data",
          "data": {
            "text/plain": [
              "Initialized MLflow to track repo \u001b[32m\"Cimbir/Store-Sales-Forecasting\"\u001b[0m\n"
            ],
            "text/html": [
              "<pre style=\"white-space:pre;overflow-x:auto;line-height:normal;font-family:Menlo,'DejaVu Sans Mono',consolas,'Courier New',monospace\">Initialized MLflow to track repo <span style=\"color: #008000; text-decoration-color: #008000\">\"Cimbir/Store-Sales-Forecasting\"</span>\n",
              "</pre>\n"
            ]
          },
          "metadata": {}
        },
        {
          "output_type": "display_data",
          "data": {
            "text/plain": [
              "Repository Cimbir/Store-Sales-Forecasting initialized!\n"
            ],
            "text/html": [
              "<pre style=\"white-space:pre;overflow-x:auto;line-height:normal;font-family:Menlo,'DejaVu Sans Mono',consolas,'Courier New',monospace\">Repository Cimbir/Store-Sales-Forecasting initialized!\n",
              "</pre>\n"
            ]
          },
          "metadata": {}
        }
      ]
    },
    {
      "cell_type": "code",
      "source": [
        "mlflow.set_experiment('SARIMA_Training')"
      ],
      "metadata": {
        "id": "d00xXOlWUzS1",
        "colab": {
          "base_uri": "https://localhost:8080/"
        },
        "outputId": "c7423be6-f315-409c-ddd9-ec2ce8f95352"
      },
      "execution_count": null,
      "outputs": [
        {
          "output_type": "execute_result",
          "data": {
            "text/plain": [
              "<Experiment: artifact_location='mlflow-artifacts:/eab27d284ccf4e2c9217f41e9914a0b4', creation_time=1751109185006, experiment_id='0', last_update_time=1751109185006, lifecycle_stage='active', name='SARIMA_Training', tags={}>"
            ]
          },
          "metadata": {},
          "execution_count": 32
        }
      ]
    },
    {
      "cell_type": "code",
      "source": [
        "with mlflow.start_run(run_name='SARIMA_Preprocessor') as run:\n",
        "  mlflow.log_param('cleaner', 'CleaningPreprocessor')\n",
        "  mlflow.log_param('nan_vars', nan_vars)\n",
        "  mlflow.log_param('encoder', 'EncoderPreprocessor')\n",
        "\n",
        "  pickle.dump(pipeline, open('preprocessor_pipeline.pkl', 'wb'))\n",
        "  mlflow.log_artifact('preprocessor_pipeline.pkl')"
      ],
      "metadata": {
        "colab": {
          "base_uri": "https://localhost:8080/"
        },
        "id": "rlhwGPWJPRRN",
        "outputId": "38b7b9f1-fb22-436d-c87d-1f27473afca7"
      },
      "execution_count": null,
      "outputs": [
        {
          "output_type": "stream",
          "name": "stdout",
          "text": [
            "🏃 View run SARIMA_Preprocessor at: https://dagshub.com/Cimbir/Store-Sales-Forecasting.mlflow/#/experiments/0/runs/2b847b20f52d4dea8f1a01a935b3faf3\n",
            "🧪 View experiment at: https://dagshub.com/Cimbir/Store-Sales-Forecasting.mlflow/#/experiments/0\n"
          ]
        }
      ]
    },
    {
      "cell_type": "code",
      "source": [
        "with mlflow.start_run(run_name=f'SARIMA_Model_{store_id}_{dept_id}_s_{S}') as run:\n",
        "  mlflow.log_param('store_id', store_id)\n",
        "  mlflow.log_param('dept_id', dept_id)\n",
        "\n",
        "  mlflow.log_param('p', p)\n",
        "  mlflow.log_param('d', d)\n",
        "  mlflow.log_param('q', q)\n",
        "  mlflow.log_param('P', P)\n",
        "  mlflow.log_param('D', D)\n",
        "  mlflow.log_param('Q', Q)\n",
        "  mlflow.log_param('S', S)\n",
        "\n",
        "  mlflow.log_param('exog_vars_list', exog_vars_list)\n",
        "\n",
        "  mlflow.log_param('best_order', best_order)\n",
        "  mlflow.log_param('best_seasonal_order', best_seasonal_order)\n",
        "  mlflow.log_metric('best_wmae', best_wmae)\n",
        "\n",
        "  mlflow.log_text(str(best_model.summary()), 'model_summary.txt')\n",
        "\n",
        "  # Save the best_model using pickle and log it as an artifact\n",
        "  pickle.dump(best_model, open('sarima_best_model.pkl', 'wb'))\n",
        "  mlflow.log_artifact('sarima_best_model.pkl')\n",
        "\n",
        "  # predictions_val = best_model.forecast(steps=len(sd_val_df), exog=sd_val_df[exog_vars_list])\n",
        "  # predictions_val[predictions_val < 0] = 0\n",
        "  # signature = infer_signature(sd_val_df[exog_vars_list], predictions_val)\n",
        "  # mlflow.statsmodels.log_model(best_model, 'sarima_model', signature=signature)\n",
        "\n",
        "  mlflow.log_artifact(f'residuals_from_sarima_{store_id}_{dept_id}.png')\n",
        "  mlflow.log_artifact(f'weekly_sales_over_time_{store_id}_{dept_id}.png')"
      ],
      "metadata": {
        "id": "tsXxxnWzSobU",
        "colab": {
          "base_uri": "https://localhost:8080/"
        },
        "outputId": "a49814ce-3d3b-42ba-e60c-8a550ff65157"
      },
      "execution_count": null,
      "outputs": [
        {
          "output_type": "stream",
          "name": "stdout",
          "text": [
            "🏃 View run SARIMA_Model_10_2_s_51 at: https://dagshub.com/Cimbir/Store-Sales-Forecasting.mlflow/#/experiments/0/runs/29769c6ee6c24b7faebf5fa649bfb7b6\n",
            "🧪 View experiment at: https://dagshub.com/Cimbir/Store-Sales-Forecasting.mlflow/#/experiments/0\n"
          ]
        }
      ]
    },
    {
      "cell_type": "code",
      "source": [],
      "metadata": {
        "id": "3I-whed-SsZ4"
      },
      "execution_count": null,
      "outputs": []
    }
  ]
}